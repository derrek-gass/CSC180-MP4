{
 "cells": [
  {
   "cell_type": "markdown",
   "metadata": {
    "colab_type": "text",
    "id": "GxGA1SMjVOTm"
   },
   "source": [
    "## Mini-Project 4:  Solving n-queens Problem using Evolutionary Computation\n",
    "\n",
    "#### CSC 180  Intelligent Systems (Fall 2019)\n",
    "\n",
    "#### Dr. Haiquan Chen, California State University, Sacramento\n",
    "\n",
    "\n"
   ]
  },
  {
   "cell_type": "code",
   "execution_count": 315,
   "metadata": {},
   "outputs": [],
   "source": [
    "# Derrek Gass (219615449)\n",
    "# Alexander Lee (212490812)\n",
    "# CSC180 - Intelligent Systems\n",
    "# Mini-Project 4\n",
    "# 11-14-19"
   ]
  },
  {
   "cell_type": "markdown",
   "metadata": {
    "colab_type": "text",
    "id": "HibX8kusV5PD"
   },
   "source": [
    "\n",
    "## Part I: Position-index-based board representation"
   ]
  },
  {
   "cell_type": "code",
   "execution_count": 316,
   "metadata": {
    "colab": {},
    "colab_type": "code",
    "id": "LcEVm7paVOTo"
   },
   "outputs": [
    {
     "name": "stderr",
     "output_type": "stream",
     "text": [
      "/Users/derrekgass/anaconda3/lib/python3.7/site-packages/deap/creator.py:141: RuntimeWarning: A class named 'FitnessMin' has already been created and it will be overwritten. Consider deleting previous creation of that class or rename it.\n",
      "  RuntimeWarning)\n",
      "/Users/derrekgass/anaconda3/lib/python3.7/site-packages/deap/creator.py:141: RuntimeWarning: A class named 'Individual' has already been created and it will be overwritten. Consider deleting previous creation of that class or rename it.\n",
      "  RuntimeWarning)\n"
     ]
    }
   ],
   "source": [
    "import random\n",
    "import numpy as np\n",
    "from deap import algorithms, base, creator, tools\n",
    "\n",
    "creator.create(\"FitnessMin\", base.Fitness, weights=(-1.0,))\n",
    "creator.create(\"Individual\", list, fitness=creator.FitnessMin)\n"
   ]
  },
  {
   "cell_type": "code",
   "execution_count": 317,
   "metadata": {
    "colab": {},
    "colab_type": "code",
    "id": "AjYwh9eYVOTt"
   },
   "outputs": [],
   "source": [
    "def create_individual():\n",
    "    return random.sample(range(64), 8)"
   ]
  },
  {
   "cell_type": "code",
   "execution_count": 318,
   "metadata": {
    "colab": {},
    "colab_type": "code",
    "id": "V3rgKtu_VOTv"
   },
   "outputs": [
    {
     "name": "stdout",
     "output_type": "stream",
     "text": [
      "[19, 62, 50, 18, 4, 24, 8, 16]\n"
     ]
    }
   ],
   "source": [
    "print(create_individual())"
   ]
  },
  {
   "cell_type": "code",
   "execution_count": 319,
   "metadata": {
    "colab": {},
    "colab_type": "code",
    "id": "ekoiWdxDVOTy"
   },
   "outputs": [],
   "source": [
    "def show_grid(board):\n",
    "    \n",
    "    n = [0]*64\n",
    "    for i in board:\n",
    "        n[i] = 1\n",
    "    \n",
    "    \n",
    "    for i in range(8):\n",
    "        for j in range(64):\n",
    "            if j // 8 == i:\n",
    "                if n[j] == 1:\n",
    "                    print('X',end=\"|\")\n",
    "                else:\n",
    "                    print('-',end=\"|\")\n",
    "        print()\n",
    "        print(\"----------------\")\n"
   ]
  },
  {
   "cell_type": "code",
   "execution_count": 320,
   "metadata": {
    "colab": {},
    "colab_type": "code",
    "id": "N8XtgeUKVOT0"
   },
   "outputs": [],
   "source": [
    "toolbox = base.Toolbox()\n",
    "toolbox.register(\"attr_int\", )\n",
    "toolbox.register(\"individual\", tools.initIterate, creator.Individual, create_individual)\n",
    "\n",
    "toolbox.register(\"population\", tools.initRepeat, list, toolbox.individual)"
   ]
  },
  {
   "cell_type": "code",
   "execution_count": 321,
   "metadata": {
    "colab": {},
    "colab_type": "code",
    "id": "YTk0VOT-VOT3"
   },
   "outputs": [],
   "source": [
    "pop = toolbox.population(n=50)"
   ]
  },
  {
   "cell_type": "code",
   "execution_count": 322,
   "metadata": {
    "colab": {},
    "colab_type": "code",
    "id": "letgI4JkVOT6"
   },
   "outputs": [
    {
     "name": "stdout",
     "output_type": "stream",
     "text": [
      "-|-|-|-|-|-|-|-|\n",
      "----------------\n",
      "-|-|-|-|-|-|X|-|\n",
      "----------------\n",
      "-|-|-|-|-|X|-|-|\n",
      "----------------\n",
      "-|-|-|-|-|-|X|-|\n",
      "----------------\n",
      "-|-|-|X|-|-|-|X|\n",
      "----------------\n",
      "-|-|-|-|-|-|-|-|\n",
      "----------------\n",
      "-|-|-|X|-|X|-|-|\n",
      "----------------\n",
      "-|-|-|-|-|-|X|-|\n",
      "----------------\n"
     ]
    }
   ],
   "source": [
    "show_grid(pop[0])"
   ]
  },
  {
   "cell_type": "code",
   "execution_count": 323,
   "metadata": {},
   "outputs": [
    {
     "name": "stdout",
     "output_type": "stream",
     "text": [
      "[14, 53, 39, 21, 30, 62, 35, 51]\n",
      "[8, 19, 63, 46, 53, 27, 48, 11]\n",
      "[23, 32, 39, 16, 5, 33, 63, 59]\n",
      "[8, 43, 61, 21, 34, 30, 24, 22]\n",
      "[33, 37, 61, 14, 49, 39, 9, 22]\n",
      "[40, 54, 55, 63, 31, 25, 48, 14]\n",
      "[46, 59, 39, 35, 42, 52, 32, 17]\n",
      "[42, 38, 26, 58, 13, 25, 62, 22]\n",
      "[30, 50, 49, 53, 56, 0, 29, 11]\n",
      "[55, 46, 21, 25, 31, 58, 60, 51]\n",
      "[25, 35, 42, 55, 61, 51, 0, 26]\n",
      "[38, 31, 8, 28, 24, 34, 48, 56]\n",
      "[36, 38, 2, 0, 37, 24, 9, 55]\n",
      "[5, 3, 51, 19, 28, 4, 17, 50]\n",
      "[45, 3, 6, 28, 33, 8, 52, 44]\n",
      "[33, 1, 3, 12, 22, 43, 17, 42]\n",
      "[14, 16, 47, 10, 38, 23, 32, 4]\n",
      "[23, 20, 60, 22, 50, 0, 5, 54]\n",
      "[44, 40, 6, 38, 19, 15, 18, 48]\n",
      "[49, 35, 53, 27, 28, 24, 7, 30]\n",
      "[62, 15, 44, 22, 63, 12, 26, 3]\n",
      "[1, 33, 44, 11, 56, 9, 51, 42]\n",
      "[42, 10, 23, 14, 43, 54, 59, 57]\n",
      "[5, 7, 45, 58, 16, 46, 30, 1]\n",
      "[51, 53, 0, 48, 1, 9, 32, 30]\n",
      "[49, 36, 24, 18, 14, 42, 58, 59]\n",
      "[13, 2, 25, 3, 19, 43, 22, 35]\n",
      "[51, 11, 55, 18, 50, 48, 13, 59]\n",
      "[63, 1, 41, 36, 7, 42, 43, 15]\n",
      "[43, 11, 13, 36, 33, 15, 27, 60]\n",
      "[43, 23, 51, 7, 30, 27, 55, 2]\n",
      "[43, 48, 62, 47, 27, 11, 7, 55]\n",
      "[37, 5, 61, 9, 7, 23, 41, 50]\n",
      "[51, 1, 18, 52, 17, 25, 39, 15]\n",
      "[47, 19, 20, 10, 50, 63, 54, 15]\n",
      "[55, 25, 7, 61, 41, 45, 26, 36]\n",
      "[10, 50, 37, 20, 36, 43, 32, 21]\n",
      "[62, 9, 40, 23, 33, 39, 26, 22]\n",
      "[11, 38, 18, 9, 29, 37, 52, 36]\n",
      "[62, 43, 53, 50, 40, 56, 15, 30]\n",
      "[53, 33, 15, 36, 32, 21, 13, 50]\n",
      "[46, 26, 49, 30, 56, 54, 21, 43]\n",
      "[62, 36, 20, 39, 27, 53, 61, 29]\n",
      "[45, 39, 22, 37, 35, 20, 28, 62]\n",
      "[58, 47, 49, 34, 56, 4, 26, 53]\n",
      "[12, 46, 63, 23, 20, 40, 37, 49]\n",
      "[55, 31, 61, 4, 19, 62, 32, 15]\n",
      "[56, 46, 36, 40, 30, 26, 0, 13]\n",
      "[40, 45, 57, 17, 0, 27, 8, 32]\n",
      "[48, 7, 21, 18, 22, 2, 33, 56]\n"
     ]
    }
   ],
   "source": [
    "for i in range(len(pop)):\n",
    "    print(pop[i])"
   ]
  },
  {
   "cell_type": "markdown",
   "metadata": {
    "colab_type": "text",
    "id": "qzj4Y0L5VOT8"
   },
   "source": [
    "### 10 pts:  Write your code in the cell below to define the \"evaFitness\" function, which return the fitness of any given board.  \n",
    "\n",
    "- Noticed that in this case, mutation may generate invalid board, e.g., the board with dupliciate positions.  Think about   [5, 32, 8, 8, 41, 3, 55, 49]\n",
    "\n",
    "- How to exclude those invalid boards from each generation? One way is to add some penalty to the fitness value of invalid boards.  In that case, any invalid board will have a very high fitness value (remember that our goal is to find the board with least fitness value).    To do that, let's write a function ***checkDuplicate()*** to calculate the number of queen pairs in the same position for any given board and add that function to the fitness value. \n",
    "\n",
    "-  evaFitness() returns the total number of duplicate position pair plus the total number of distinct pairs of queens that attack each other.  "
   ]
  },
  {
   "cell_type": "code",
   "execution_count": 353,
   "metadata": {
    "colab": {},
    "colab_type": "code",
    "id": "ZTHRSMRMVOT8"
   },
   "outputs": [],
   "source": [
    "#fitness function\n",
    "def evaFitness(individual):\n",
    "    conflict = 0\n",
    "    conflict += checkDuplicate(individual)\n",
    "    conflict += checkLeftDiagConflict(individual)\n",
    "    #conflict += checkRightDiagConflict(individual)\n",
    "    conflict += checkVertConflict(individual)\n",
    "    conflict += checkHorizConflict(individual)\n",
    "    return (conflict),\n",
    "    \n",
    "    \n",
    "# Calculate the number of queens in left diagonal conflict\n",
    "def checkRightDiagConflict(individual):\n",
    "    count=0\n",
    "    seen = set()\n",
    "    n = 1\n",
    "    for i in individual:\n",
    " #       row = np.floor(i/8)    # rows\n",
    " #       col = i % 8            # columns\n",
    "        if i in seen:\n",
    "            count+=1\n",
    "        else:\n",
    "            n = 1\n",
    "            seen.add(i)\n",
    "            while (n < 8):\n",
    "                j = (i+(n*9))%63  # down to the right\n",
    "                n+=1   \n",
    "                seen.add(j)\n",
    "    return count\n",
    "\n",
    "\n",
    "# this is the one that no worky\n",
    "# Calculate the number of queens in right diagonal conflict\n",
    "def checkLeftDiagConflict(individual):\n",
    "    count=0\n",
    "    seen = set()\n",
    "    for i in individual:\n",
    "        row = np.floor(i/8)    # rows\n",
    "        col = i % 8            # columns\n",
    "        if i in seen:\n",
    "            count+=1\n",
    "        else:\n",
    "            n = 1\n",
    "            seen.add(i)\n",
    "            while (n <8):\n",
    "                j = (i+(n*8)-n)%63  # down to the left\n",
    "                n+=1   \n",
    "                seen.add(j)\n",
    "    return count\n",
    "\n",
    " # Calculate the number of queens in left diagonal conflict\n",
    "def checkVertConflict(individual):\n",
    "    vertCount=0\n",
    "    seen = set()\n",
    "    for i in individual:\n",
    "        i = i%8\n",
    "        if i in seen:\n",
    "            vertCount+=1\n",
    "        else:\n",
    "            seen.add(i)\n",
    "    return vertCount\n",
    "\n",
    " # Calculate the number of queens in left diagonal conflict\n",
    "def checkHorizConflict(individual):\n",
    "    count=0\n",
    "    seen = set()\n",
    "    for i in individual:\n",
    "        i = np.floor(i/8)\n",
    "        if i in seen:\n",
    "            count+=1\n",
    "        else:\n",
    "            seen.add(i)\n",
    "    return count\n",
    "    \n",
    "# Calculate the number of queen pairs in the same position for any given board\n",
    "def checkDuplicate(individual):\n",
    "    dup = 0\n",
    "    uniqueItems = set()\n",
    "    for i in individual:\n",
    "        if i in uniqueItems:\n",
    "            dup += 1\n",
    "        else:\n",
    "            uniqueItems.add(i)\n",
    "    return dup\n",
    "    \n",
    "    "
   ]
  },
  {
   "cell_type": "markdown",
   "metadata": {
    "colab_type": "text",
    "id": "tikbcB_kVOT-"
   },
   "source": [
    "### 5 pts:  Writer your code in the cell below to register \"evaluate\" function to toolbox"
   ]
  },
  {
   "cell_type": "code",
   "execution_count": 354,
   "metadata": {
    "colab": {},
    "colab_type": "code",
    "id": "_eDjyzBlVOUB"
   },
   "outputs": [],
   "source": [
    "toolbox.register(\"evaluate\", evaFitness)\n",
    "toolbox.register(\"mate\", tools.cxTwoPoint)\n",
    "toolbox.register(\"mutate\", tools.mutUniformInt, low = 0, up = 63, indpb=0.125)\n",
    "toolbox.register(\"select\", tools.selTournament, tournsize=3)"
   ]
  },
  {
   "cell_type": "code",
   "execution_count": 355,
   "metadata": {},
   "outputs": [
    {
     "name": "stdout",
     "output_type": "stream",
     "text": [
      "[47, 24, 51, 60, 8, 41, 52, 29]\n",
      "[47, 24, 51, 60, 8, 41, 52, 29]\n"
     ]
    }
   ],
   "source": [
    "ind = toolbox.individual()\n",
    "print(ind)\n",
    "\n",
    "toolbox.mutate(ind)\n",
    "print(ind)"
   ]
  },
  {
   "cell_type": "code",
   "execution_count": 356,
   "metadata": {
    "scrolled": true
   },
   "outputs": [
    {
     "name": "stdout",
     "output_type": "stream",
     "text": [
      "(<class 'list'>, [[14, 53, 39, 21, 30, 62, 35, 51], [8, 19, 63, 46, 53, 27, 48, 11], [23, 32, 39, 16, 5, 33, 63, 59], [8, 43, 61, 21, 34, 30, 24, 22], [33, 37, 61, 14, 49, 39, 9, 22], [40, 54, 55, 63, 31, 25, 48, 14], [46, 59, 39, 35, 42, 52, 32, 17], [42, 38, 26, 58, 13, 25, 62, 22], [30, 50, 49, 53, 56, 0, 29, 11], [55, 46, 21, 25, 31, 58, 60, 51], [25, 35, 42, 55, 61, 51, 0, 26], [38, 31, 8, 28, 24, 34, 48, 56], [36, 38, 2, 0, 37, 24, 9, 55], [5, 3, 51, 19, 28, 4, 17, 50], [45, 3, 6, 28, 33, 8, 52, 44], [33, 1, 3, 12, 22, 43, 17, 42], [14, 16, 47, 10, 38, 23, 32, 4], [23, 20, 60, 22, 50, 0, 5, 54], [44, 40, 6, 38, 19, 15, 18, 48], [49, 35, 53, 27, 28, 24, 7, 30], [62, 15, 44, 22, 63, 12, 26, 3], [1, 33, 44, 11, 56, 9, 51, 42], [42, 10, 23, 14, 43, 54, 59, 57], [5, 7, 45, 58, 16, 46, 30, 1], [51, 53, 0, 48, 1, 9, 32, 30], [49, 36, 24, 18, 14, 42, 58, 59], [13, 2, 25, 3, 19, 43, 22, 35], [51, 11, 55, 18, 50, 48, 13, 59], [63, 1, 41, 36, 7, 42, 43, 15], [43, 11, 13, 36, 33, 15, 27, 60], [43, 23, 51, 7, 30, 27, 55, 2], [43, 48, 62, 47, 27, 11, 7, 55], [37, 5, 61, 9, 7, 23, 41, 50], [51, 1, 18, 52, 17, 25, 39, 15], [47, 19, 20, 10, 50, 63, 54, 15], [55, 25, 7, 61, 41, 45, 26, 36], [10, 50, 37, 20, 36, 43, 32, 21], [62, 9, 40, 23, 33, 39, 26, 22], [11, 38, 18, 9, 29, 37, 52, 36], [62, 43, 53, 50, 40, 56, 15, 30], [53, 33, 15, 36, 32, 21, 13, 50], [46, 26, 49, 30, 56, 54, 21, 43], [62, 36, 20, 39, 27, 53, 61, 29], [45, 39, 22, 37, 35, 20, 28, 62], [58, 47, 49, 34, 56, 4, 26, 53], [12, 46, 63, 23, 20, 40, 37, 49], [55, 31, 61, 4, 19, 62, 32, 15], [56, 46, 36, 40, 30, 26, 0, 13], [40, 45, 57, 17, 0, 27, 8, 32], [48, 7, 21, 18, 22, 2, 33, 56]])\n"
     ]
    }
   ],
   "source": [
    "print((type(pop), pop))"
   ]
  },
  {
   "cell_type": "code",
   "execution_count": 357,
   "metadata": {
    "colab": {},
    "colab_type": "code",
    "id": "6uej76HoVOUD"
   },
   "outputs": [],
   "source": [
    "stats = tools.Statistics(key=lambda ind: ind.fitness.values)"
   ]
  },
  {
   "cell_type": "code",
   "execution_count": 358,
   "metadata": {
    "colab": {},
    "colab_type": "code",
    "id": "W8cWVXmxVOUH"
   },
   "outputs": [],
   "source": [
    "stats.register(\"avg\", np.mean)\n",
    "stats.register(\"min\", np.min)"
   ]
  },
  {
   "cell_type": "markdown",
   "metadata": {
    "colab_type": "text",
    "id": "OmnhqV_MVOUJ"
   },
   "source": [
    "### 10 pts:  Writer your code in the cell below to create the first generation, the hall of fame, and launch the genetic algorithm: eaSimple().   Run the algorithm for 100 generations. "
   ]
  },
  {
   "cell_type": "code",
   "execution_count": 359,
   "metadata": {
    "colab": {},
    "colab_type": "code",
    "id": "SsTaPuPgVOUK"
   },
   "outputs": [
    {
     "name": "stdout",
     "output_type": "stream",
     "text": [
      "gen\tnevals\tavg \tmin\n",
      "0  \t50    \t7.94\t5  \n",
      "1  \t35    \t7.12\t5  \n",
      "2  \t36    \t7   \t5  \n",
      "3  \t29    \t6.52\t4  \n",
      "4  \t27    \t6.2 \t5  \n",
      "5  \t26    \t5.84\t5  \n",
      "6  \t28    \t5.34\t4  \n",
      "7  \t28    \t5.38\t4  \n",
      "8  \t30    \t4.98\t4  \n",
      "9  \t37    \t4.84\t4  \n",
      "10 \t31    \t4.52\t4  \n",
      "11 \t23    \t4.08\t3  \n",
      "12 \t28    \t4.28\t3  \n",
      "13 \t28    \t3.92\t2  \n",
      "14 \t24    \t3.8 \t2  \n",
      "15 \t32    \t3.4 \t2  \n",
      "16 \t35    \t3   \t2  \n",
      "17 \t28    \t2.58\t2  \n",
      "18 \t27    \t2.2 \t2  \n",
      "19 \t35    \t2.6 \t0  \n",
      "20 \t41    \t2.3 \t0  \n",
      "21 \t33    \t1.62\t0  \n",
      "22 \t42    \t0.98\t0  \n",
      "23 \t31    \t0.72\t0  \n",
      "24 \t24    \t0.32\t0  \n",
      "25 \t35    \t0.3 \t0  \n",
      "26 \t26    \t0.56\t0  \n",
      "27 \t30    \t0.54\t0  \n",
      "28 \t30    \t0.5 \t0  \n",
      "29 \t32    \t0.38\t0  \n",
      "30 \t27    \t0.5 \t0  \n",
      "31 \t24    \t0.16\t0  \n",
      "32 \t32    \t0.58\t0  \n",
      "33 \t32    \t0.4 \t0  \n",
      "34 \t30    \t0.66\t0  \n",
      "35 \t30    \t0.44\t0  \n",
      "36 \t32    \t0.78\t0  \n",
      "37 \t32    \t0.72\t0  \n",
      "38 \t22    \t0.3 \t0  \n",
      "39 \t29    \t0.26\t0  \n",
      "40 \t35    \t0.72\t0  \n",
      "41 \t35    \t0.2 \t0  \n",
      "42 \t28    \t0.36\t0  \n",
      "43 \t32    \t0.48\t0  \n",
      "44 \t25    \t0.1 \t0  \n",
      "45 \t29    \t0.58\t0  \n",
      "46 \t33    \t0.26\t0  \n",
      "47 \t32    \t0.6 \t0  \n",
      "48 \t36    \t0.5 \t0  \n",
      "49 \t20    \t0.62\t0  \n",
      "50 \t28    \t0.38\t0  \n",
      "51 \t33    \t0.3 \t0  \n",
      "52 \t29    \t0.44\t0  \n",
      "53 \t24    \t0.26\t0  \n",
      "54 \t27    \t0.34\t0  \n",
      "55 \t36    \t0.8 \t0  \n",
      "56 \t31    \t0.66\t0  \n",
      "57 \t30    \t0.36\t0  \n",
      "58 \t27    \t0.58\t0  \n",
      "59 \t27    \t0.56\t0  \n",
      "60 \t30    \t0.72\t0  \n",
      "61 \t33    \t0.44\t0  \n",
      "62 \t36    \t0.38\t0  \n",
      "63 \t30    \t0.54\t0  \n",
      "64 \t29    \t0.22\t0  \n",
      "65 \t32    \t0.7 \t0  \n",
      "66 \t26    \t0.5 \t0  \n",
      "67 \t38    \t0.24\t0  \n",
      "68 \t35    \t0.54\t0  \n",
      "69 \t32    \t0.28\t0  \n",
      "70 \t29    \t0.4 \t0  \n",
      "71 \t29    \t0.38\t0  \n",
      "72 \t28    \t0.48\t0  \n",
      "73 \t30    \t0.24\t0  \n",
      "74 \t33    \t0.34\t0  \n",
      "75 \t28    \t0.7 \t0  \n",
      "76 \t30    \t0.9 \t0  \n",
      "77 \t27    \t0.98\t0  \n",
      "78 \t21    \t0.36\t0  \n",
      "79 \t23    \t0.3 \t0  \n",
      "80 \t28    \t0.42\t0  \n",
      "81 \t27    \t0.44\t0  \n",
      "82 \t36    \t0.4 \t0  \n",
      "83 \t24    \t0.32\t0  \n",
      "84 \t31    \t0.46\t0  \n",
      "85 \t34    \t0.34\t0  \n",
      "86 \t37    \t0.44\t0  \n",
      "87 \t28    \t0.62\t0  \n",
      "88 \t34    \t0.62\t0  \n",
      "89 \t31    \t0.32\t0  \n",
      "90 \t21    \t0.36\t0  \n",
      "91 \t30    \t0.44\t0  \n",
      "92 \t33    \t0.66\t0  \n",
      "93 \t37    \t0.82\t0  \n",
      "94 \t30    \t1.06\t0  \n",
      "95 \t31    \t0.52\t0  \n",
      "96 \t30    \t0.48\t0  \n",
      "97 \t21    \t0.54\t0  \n",
      "98 \t26    \t0.44\t0  \n",
      "99 \t30    \t0.74\t0  \n",
      "100\t34    \t0.54\t0  \n"
     ]
    }
   ],
   "source": [
    "import matplotlib.pyplot as plt\n",
    "%matplotlib inline  \n",
    "\n",
    "hof = tools.HallOfFame(maxsize=1)\n",
    "\n",
    "pop, log= algorithms.eaSimple(pop, toolbox, cxpb=0.5, mutpb=0.2, ngen=100, stats=stats, halloffame=hof, verbose=True)\n",
    "\n"
   ]
  },
  {
   "cell_type": "markdown",
   "metadata": {
    "colab_type": "text",
    "id": "OkApdsjQVOUL"
   },
   "source": [
    "### 5 pts:  Plot the \"avg\" and \"min\" for each generation"
   ]
  },
  {
   "cell_type": "code",
   "execution_count": 360,
   "metadata": {
    "colab": {},
    "colab_type": "code",
    "id": "gcFc3eOyVOUM",
    "scrolled": true
   },
   "outputs": [
    {
     "data": {
      "image/png": "[encoded data removed]",
      "text/plain": [
       "<Figure size 432x288 with 1 Axes>"
      ]
     },
     "metadata": {
      "needs_background": "light"
     },
     "output_type": "display_data"
    }
   ],
   "source": [
    "gen, avg, min_, max_ = log.select(\"gen\", \"avg\", \"min\", \"max\")\n",
    "\n",
    "plt.plot(gen, avg, label=\"average\")\n",
    "plt.plot(gen, min_, label=\"minimum\")\n",
    "plt.plot(gen, max_, label=\"maximum\")\n",
    "plt.xlabel(\"Generation\")\n",
    "plt.ylabel(\"Fitness\")\n",
    "plt.legend(loc=\"lower right\")\n",
    "plt.show()"
   ]
  },
  {
   "cell_type": "markdown",
   "metadata": {
    "colab_type": "text",
    "id": "t6PFTvUZVOUN"
   },
   "source": [
    "### 5 pts:  Print out the best individual found and its fitness value.  Show the best individual as chessboard"
   ]
  },
  {
   "cell_type": "code",
   "execution_count": 361,
   "metadata": {
    "colab": {},
    "colab_type": "code",
    "id": "-MeBQ0BZVOUO"
   },
   "outputs": [
    {
     "name": "stdout",
     "output_type": "stream",
     "text": [
      "Best individual is: [49, 36, 24, 13, 6, 42, 19, 63]\n",
      "With fitness:  (0,)\n",
      "-|-|-|-|-|-|X|-|\n",
      "----------------\n",
      "-|-|-|-|-|X|-|-|\n",
      "----------------\n",
      "-|-|-|X|-|-|-|-|\n",
      "----------------\n",
      "X|-|-|-|-|-|-|-|\n",
      "----------------\n",
      "-|-|-|-|X|-|-|-|\n",
      "----------------\n",
      "-|-|X|-|-|-|-|-|\n",
      "----------------\n",
      "-|X|-|-|-|-|-|-|\n",
      "----------------\n",
      "-|-|-|-|-|-|-|X|\n",
      "----------------\n"
     ]
    }
   ],
   "source": [
    "best_ind = tools.selBest(pop, k=1)[0]\n",
    "\n",
    "print('Best individual is:', best_ind)\n",
    "\n",
    "print('With fitness: ', toolbox.evaluate(best_ind))\n",
    "\n",
    "show_grid(best_ind)"
   ]
  },
  {
   "cell_type": "markdown",
   "metadata": {
    "colab_type": "text",
    "id": "_PCJJdWAVOUP"
   },
   "source": [
    "## Part II: Row-index-based board representation"
   ]
  },
  {
   "cell_type": "code",
   "execution_count": null,
   "metadata": {
    "colab": {},
    "colab_type": "code",
    "id": "BF0R7swEVOUQ"
   },
   "outputs": [],
   "source": [
    "import random\n",
    "import numpy as np\n",
    "from deap import algorithms, base, creator, tools\n",
    "\n",
    "creator.create(\"FitnessMin\", base.Fitness, weights=(-1.0,))\n",
    "creator.create(\"Individual\", list, fitness=creator.FitnessMin)\n"
   ]
  },
  {
   "cell_type": "markdown",
   "metadata": {
    "colab_type": "text",
    "id": "YCwVbnHrVOUS"
   },
   "source": [
    "Each row of the chess row is indexed from 0->7 . we place different queens on different rows initially.  The sequence [ a b c d .... ] means that in $0^{th}$ row, $a^{th}$ column, the queen is present and so on"
   ]
  },
  {
   "cell_type": "code",
   "execution_count": null,
   "metadata": {
    "colab": {},
    "colab_type": "code",
    "id": "n4II9oePVOUS"
   },
   "outputs": [],
   "source": [
    "toolbox = base.Toolbox()\n",
    "\n",
    "toolbox.register(\"attr_int\", random.randint, 0, 7)\n",
    "toolbox.register(\"individual\", tools.initRepeat, creator.Individual,\n",
    "                 toolbox.attr_int, n=8)"
   ]
  },
  {
   "cell_type": "code",
   "execution_count": null,
   "metadata": {
    "colab": {},
    "colab_type": "code",
    "id": "W-tn8be2VOUU"
   },
   "outputs": [],
   "source": [
    "toolbox.individual()"
   ]
  },
  {
   "cell_type": "code",
   "execution_count": null,
   "metadata": {
    "colab": {},
    "colab_type": "code",
    "id": "97EqErd3VOUX"
   },
   "outputs": [],
   "source": [
    "def show_grid(board):\n",
    "    \n",
    "    n = [0]*64\n",
    "    \n",
    "    for i in range(len(board)):\n",
    "        n[board[i] + i*8] = 1\n",
    "      \n",
    "    \n",
    "    for i in range(8):\n",
    "        for j in range(64):\n",
    "            if j // 8 == i:\n",
    "                if n[j] == 1:\n",
    "                    print('X',end=\"|\")\n",
    "                else:\n",
    "                    print('-',end=\"|\")\n",
    "        print()\n",
    "        print(\"----------------\")\n"
   ]
  },
  {
   "cell_type": "code",
   "execution_count": null,
   "metadata": {
    "colab": {},
    "colab_type": "code",
    "id": "UxkDfoxbVOUb"
   },
   "outputs": [],
   "source": [
    "toolbox.register(\"population\", tools.initRepeat, list, toolbox.individual)"
   ]
  },
  {
   "cell_type": "code",
   "execution_count": null,
   "metadata": {
    "colab": {},
    "colab_type": "code",
    "id": "lcY06x24VOUe"
   },
   "outputs": [],
   "source": [
    "pop = toolbox.population(n=5)\n",
    "\n",
    "print(pop[0])"
   ]
  },
  {
   "cell_type": "code",
   "execution_count": null,
   "metadata": {
    "colab": {},
    "colab_type": "code",
    "id": "KYoqKKm8VOUg"
   },
   "outputs": [],
   "source": [
    "show_grid(pop[0])"
   ]
  },
  {
   "cell_type": "markdown",
   "metadata": {
    "colab_type": "text",
    "id": "6_wZvS3mVOUh"
   },
   "source": [
    "### 10 pts:  Write your code in the cell below to define the \"evaFitness\" function, which return the fitness of any given board\n",
    "\n",
    "- evaFitness() returns the total number of distinct pairs of queens that attack each other.  \n",
    "\n",
    "- The following are some test cases you may use to verify the correctness of the evaFitness() function:\n",
    "\n",
    " * evaFitness([0, 2, 6, 7, 7, 4, 1, 6]) should return (4,)\n",
    "\n",
    " * evaFitness([7, 5, 2, 4, 3, 1, 3, 5]) should return (6,)\n",
    "\n",
    " * evaFitness([3, 1, 6, 0, 5, 7, 2, 1]) should return (5,)\n",
    "\n",
    " * evaFitness([7, 3, 1, 4, 5, 1, 3, 5]) should return (6,)\n",
    "\n"
   ]
  },
  {
   "cell_type": "code",
   "execution_count": null,
   "metadata": {
    "colab": {},
    "colab_type": "code",
    "id": "bk1Rn57oVOUi"
   },
   "outputs": [],
   "source": [
    "#fitness function\n",
    "def evaFitness(individual):\n",
    "    \n",
    "    conflict = 0\n",
    "    \n",
    "\n",
    "    \n",
    "    \n",
    "    \n",
    "    \n",
    "    \n",
    "    \n",
    "    \n",
    "    \n",
    "    return (conflict,)\n",
    "\n",
    "\n",
    "\n",
    "    \n",
    " \n",
    "    "
   ]
  },
  {
   "cell_type": "markdown",
   "metadata": {
    "colab_type": "text",
    "id": "MLkixA1YVOUj"
   },
   "source": [
    "### 5 pts:  Writer your code in the cell below to register \"evaluate\" function to toolbox"
   ]
  },
  {
   "cell_type": "code",
   "execution_count": null,
   "metadata": {
    "colab": {},
    "colab_type": "code",
    "id": "TMwldAeuVOUk"
   },
   "outputs": [],
   "source": [
    "\n",
    "\n",
    "\n",
    "\n",
    "\n",
    "\n",
    "\n",
    "\n"
   ]
  },
  {
   "cell_type": "code",
   "execution_count": null,
   "metadata": {
    "colab": {},
    "colab_type": "code",
    "id": "O-xOKMI4VOUl"
   },
   "outputs": [],
   "source": [
    "\n",
    "toolbox.register(\"mate\", tools.cxTwoPoint)\n",
    "\n",
    "toolbox.register(\"mutate\", tools.mutUniformInt, low = 0, up = 7, indpb=0.1)\n",
    "\n",
    "toolbox.register(\"select\", tools.selTournament, tournsize=3)\n",
    "\n"
   ]
  },
  {
   "cell_type": "code",
   "execution_count": null,
   "metadata": {
    "colab": {},
    "colab_type": "code",
    "id": "R1jlpMTNVOUn"
   },
   "outputs": [],
   "source": [
    "stats = tools.Statistics(key=lambda ind: ind.fitness.values)\n",
    "\n",
    "\n",
    "stats.register(\"avg\", np.mean)\n",
    "stats.register(\"min\", np.min)\n",
    "\n"
   ]
  },
  {
   "cell_type": "markdown",
   "metadata": {
    "colab_type": "text",
    "id": "pyRth-sHVOUq"
   },
   "source": [
    "### 10 pts:  Writer your code in the cell below to create the first generation, the hall of fame, and launch the genetic algorithm: eaSimple().   Run the algorithm for 100 generations. "
   ]
  },
  {
   "cell_type": "code",
   "execution_count": null,
   "metadata": {
    "colab": {},
    "colab_type": "code",
    "id": "3aJJcDUVVOUq"
   },
   "outputs": [],
   "source": [
    "\n",
    "\n",
    "\n",
    "\n",
    "\n",
    "\n",
    "\n",
    "\n",
    "\n",
    "\n",
    "\n",
    "\n",
    "\n"
   ]
  },
  {
   "cell_type": "markdown",
   "metadata": {
    "colab_type": "text",
    "id": "xrJfr0ePVOUs"
   },
   "source": [
    "### 5 pts:  Plot the \"avg\" and \"min\" for each generation"
   ]
  },
  {
   "cell_type": "code",
   "execution_count": null,
   "metadata": {
    "colab": {},
    "colab_type": "code",
    "id": "LJyAUq4WVOUs"
   },
   "outputs": [],
   "source": [
    "# Plot the \"avg\" and \"min\" for each generation\n",
    "\n",
    "import matplotlib.pyplot as plt\n",
    "%matplotlib inline  \n",
    "\n",
    "\n",
    "\n",
    "\n",
    "\n",
    "\n",
    "\n",
    "\n"
   ]
  },
  {
   "cell_type": "markdown",
   "metadata": {
    "colab_type": "text",
    "id": "ry6HXqIMVOUv"
   },
   "source": [
    "### 5 pts:  Print out the best individual found and its fitness value.  Show the best individual as chessboard"
   ]
  },
  {
   "cell_type": "code",
   "execution_count": null,
   "metadata": {
    "colab": {},
    "colab_type": "code",
    "id": "PkC9uOqCVOUv"
   },
   "outputs": [],
   "source": [
    "\n",
    "\n",
    "\n",
    "\n",
    "\n",
    "\n",
    "\n",
    "\n",
    "\n",
    "\n",
    "\n",
    "\n",
    "\n",
    "\n",
    "\n",
    "\n"
   ]
  },
  {
   "cell_type": "markdown",
   "metadata": {
    "colab_type": "text",
    "id": "qhba2jQ1VOUw"
   },
   "source": [
    "### Reflection:  Which board representaion is better?   Try different parameter values for mutation and crossover or vary the number of generations you want to go through, and write your findings in the report.     "
   ]
  },
  {
   "cell_type": "code",
   "execution_count": null,
   "metadata": {},
   "outputs": [],
   "source": []
  }
 ],
 "metadata": {
  "colab": {
   "collapsed_sections": [],
   "name": "DEAP n queens_on-canvas.ipynb",
   "provenance": [],
   "toc_visible": true,
   "version": "0.3.2"
  },
  "kernelspec": {
   "display_name": "Python 3",
   "language": "python",
   "name": "python3"
  },
  "language_info": {
   "codemirror_mode": {
    "name": "ipython",
    "version": 3
   },
   "file_extension": ".py",
   "mimetype": "text/x-python",
   "name": "python",
   "nbconvert_exporter": "python",
   "pygments_lexer": "ipython3",
   "version": "3.7.0"
  }
 },
 "nbformat": 4,
 "nbformat_minor": 2
}
