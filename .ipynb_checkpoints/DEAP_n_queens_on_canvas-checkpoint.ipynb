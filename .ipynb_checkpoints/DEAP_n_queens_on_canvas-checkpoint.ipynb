{
 "cells": [
  {
   "cell_type": "markdown",
   "metadata": {
    "colab_type": "text",
    "id": "GxGA1SMjVOTm"
   },
   "source": [
    "## Mini-Project 4:  Solving n-queens Problem using Evolutionary Computation\n",
    "\n",
    "#### CSC 180  Intelligent Systems (Fall 2019)\n",
    "\n",
    "#### Dr. Haiquan Chen, California State University, Sacramento\n",
    "\n",
    "\n"
   ]
  },
  {
   "cell_type": "code",
   "execution_count": 1036,
   "metadata": {},
   "outputs": [],
   "source": [
    "# Derrek Gass (219615449)\n",
    "# Alexander Lee (212490812)\n",
    "# CSC180 - Intelligent Systems\n",
    "# Mini-Project 4\n",
    "# 11-14-19"
   ]
  },
  {
   "cell_type": "markdown",
   "metadata": {
    "colab_type": "text",
    "id": "HibX8kusV5PD"
   },
   "source": [
    "\n",
    "## Part I: Position-index-based board representation"
   ]
  },
  {
   "cell_type": "code",
   "execution_count": 1037,
   "metadata": {
    "colab": {},
    "colab_type": "code",
    "id": "LcEVm7paVOTo"
   },
   "outputs": [
    {
     "name": "stderr",
     "output_type": "stream",
     "text": [
      "/Users/derrekgass/anaconda3/lib/python3.7/site-packages/deap/creator.py:141: RuntimeWarning: A class named 'FitnessMin' has already been created and it will be overwritten. Consider deleting previous creation of that class or rename it.\n",
      "  RuntimeWarning)\n",
      "/Users/derrekgass/anaconda3/lib/python3.7/site-packages/deap/creator.py:141: RuntimeWarning: A class named 'Individual' has already been created and it will be overwritten. Consider deleting previous creation of that class or rename it.\n",
      "  RuntimeWarning)\n"
     ]
    }
   ],
   "source": [
    "import random\n",
    "import numpy as np\n",
    "from deap import algorithms, base, creator, tools\n",
    "\n",
    "creator.create(\"FitnessMin\", base.Fitness, weights=(-1.0,))\n",
    "creator.create(\"Individual\", list, fitness=creator.FitnessMin)\n"
   ]
  },
  {
   "cell_type": "code",
   "execution_count": 1038,
   "metadata": {
    "colab": {},
    "colab_type": "code",
    "id": "AjYwh9eYVOTt"
   },
   "outputs": [],
   "source": [
    "def create_individual():\n",
    "    return random.sample(range(64), 8)"
   ]
  },
  {
   "cell_type": "code",
   "execution_count": 1039,
   "metadata": {
    "colab": {},
    "colab_type": "code",
    "id": "V3rgKtu_VOTv"
   },
   "outputs": [
    {
     "name": "stdout",
     "output_type": "stream",
     "text": [
      "[38, 46, 55, 7, 59, 54, 20, 40]\n"
     ]
    }
   ],
   "source": [
    "print(create_individual())"
   ]
  },
  {
   "cell_type": "code",
   "execution_count": 1040,
   "metadata": {
    "colab": {},
    "colab_type": "code",
    "id": "ekoiWdxDVOTy"
   },
   "outputs": [],
   "source": [
    "def show_grid(board):\n",
    "    \n",
    "    n = [0]*64\n",
    "    for i in board:\n",
    "        n[i] = 1\n",
    "    \n",
    "    \n",
    "    for i in range(8):\n",
    "        for j in range(64):\n",
    "            if j // 8 == i:\n",
    "                if n[j] == 1:\n",
    "                    print('X',end=\"|\")\n",
    "                else:\n",
    "                    print('-',end=\"|\")\n",
    "        print()\n",
    "        print(\"----------------\")\n"
   ]
  },
  {
   "cell_type": "code",
   "execution_count": 1041,
   "metadata": {
    "colab": {},
    "colab_type": "code",
    "id": "N8XtgeUKVOT0"
   },
   "outputs": [],
   "source": [
    "toolbox = base.Toolbox()\n",
    "toolbox.register(\"individual\", tools.initIterate, creator.Individual, create_individual)\n",
    "\n",
    "toolbox.register(\"population\", tools.initRepeat, list, toolbox.individual)"
   ]
  },
  {
   "cell_type": "code",
   "execution_count": 1042,
   "metadata": {
    "colab": {},
    "colab_type": "code",
    "id": "YTk0VOT-VOT3"
   },
   "outputs": [],
   "source": [
    "pop = toolbox.population(n=500)"
   ]
  },
  {
   "cell_type": "code",
   "execution_count": 1043,
   "metadata": {
    "colab": {},
    "colab_type": "code",
    "id": "letgI4JkVOT6"
   },
   "outputs": [
    {
     "name": "stdout",
     "output_type": "stream",
     "text": [
      "-|-|-|-|-|-|-|X|\n",
      "----------------\n",
      "-|-|-|-|-|-|-|-|\n",
      "----------------\n",
      "-|-|-|X|-|-|-|-|\n",
      "----------------\n",
      "-|-|-|-|-|-|X|-|\n",
      "----------------\n",
      "-|-|-|-|-|-|-|-|\n",
      "----------------\n",
      "-|-|-|-|-|-|X|-|\n",
      "----------------\n",
      "X|-|-|-|-|-|X|-|\n",
      "----------------\n",
      "-|-|X|-|-|X|-|-|\n",
      "----------------\n"
     ]
    }
   ],
   "source": [
    "show_grid(pop[0])"
   ]
  },
  {
   "cell_type": "markdown",
   "metadata": {
    "colab_type": "text",
    "id": "qzj4Y0L5VOT8"
   },
   "source": [
    "### 10 pts:  Write your code in the cell below to define the \"evaFitness\" function, which return the fitness of any given board.  \n",
    "\n",
    "- Noticed that in this case, mutation may generate invalid board, e.g., the board with dupliciate positions.  Think about   [5, 32, 8, 8, 41, 3, 55, 49]\n",
    "\n",
    "- How to exclude those invalid boards from each generation? One way is to add some penalty to the fitness value of invalid boards.  In that case, any invalid board will have a very high fitness value (remember that our goal is to find the board with least fitness value).    To do that, let's write a function ***checkDuplicate()*** to calculate the number of queen pairs in the same position for any given board and add that function to the fitness value. \n",
    "\n",
    "-  evaFitness() returns the total number of duplicate position pair plus the total number of distinct pairs of queens that attack each other.  "
   ]
  },
  {
   "cell_type": "code",
   "execution_count": 1044,
   "metadata": {
    "colab": {},
    "colab_type": "code",
    "id": "ZTHRSMRMVOT8"
   },
   "outputs": [],
   "source": [
    "#fitness function\n",
    "def evaFitness(individual):\n",
    "    conflict = 0\n",
    "    conflict += checkDuplicate(individual)\n",
    "    conflict += checkBackslashConflict(individual)\n",
    "    conflict += checkForwardslashConflict(individual)\n",
    "    conflict += checkVertConflict(individual)\n",
    "    conflict += checkHorizConflict(individual)\n",
    "    return (conflict),\n",
    "    \n",
    "    \n",
    "# Calculate the number of queens in left diagonal conflict\n",
    "def checkBackslashConflict(individual):\n",
    "    count=0\n",
    "    seen = set()\n",
    "    n = 1\n",
    "    for i in individual:\n",
    "        row = np.floor(i/8)    # rows\n",
    "        col = i % 8            # columns\n",
    "        if i in seen:\n",
    "            count+=1\n",
    "        else:\n",
    "            n = 1\n",
    "            seen.add(i)\n",
    "            while (n < 8):\n",
    "                j = (i+(n*8)+n)%63  # from the left to right\n",
    "                n+=1   \n",
    "                seen.add(j)\n",
    "    return count\n",
    "\n",
    "\n",
    "# this is the one that no worky\n",
    "# Calculate the number of queens in right diagonal conflict\n",
    "def checkForwardslashConflict(individual):\n",
    "    count=0\n",
    "    seen = set()\n",
    "    for i in individual:\n",
    "        row = int(np.floor(i/8))    # rows\n",
    "        col = i % 8            # columns\n",
    "\n",
    "\n",
    "        if i in seen:\n",
    "            count+=1\n",
    "        else:\n",
    " #           print(i)\n",
    "            seen.add(((row)*8)+(col))\n",
    "            crossout(row, col, seen)\n",
    "        \n",
    " #   print(seen)\n",
    "\n",
    "    return count\n",
    "\n",
    "\n",
    "def crossout (row, col, seen):\n",
    "    x = col\n",
    "    y = row\n",
    " #   print (x, y)\n",
    "    if ((x!=7)&(y!=0)):\n",
    "        lookupRight(x+1, y-1, seen)\n",
    "    if ((y!=7)&(x!=0)):\n",
    "        lookupLeft(x-1, y+1, seen)\n",
    "    return\n",
    "\n",
    "\n",
    "\n",
    "def lookupRight(x, y, seen):\n",
    "    seen.add(((x)*8)+(y))\n",
    "  #  print (x, y)\n",
    " #   print (((x)*8)+(y))\n",
    "    if ((x!=7)&(y!=0)):\n",
    "        lookupRight(x+1, y-1, seen)\n",
    "    return\n",
    " \n",
    "def lookupLeft(x, y, seen):\n",
    "    seen.add(((x)*8)+(y))\n",
    " #   print (x, y)\n",
    "    \n",
    "    if ((y!=7)&(x!=0)):\n",
    "        lookupLeft(x-1, y+1, seen)\n",
    "    return        \n",
    "    \n",
    "    \n",
    "    \n",
    "    \n",
    " # Calculate the number of queens in left diagonal conflict\n",
    "def checkVertConflict(individual):\n",
    "    vertCount=0\n",
    "    seen = set()\n",
    "    for i in individual:\n",
    "        i = i%8\n",
    "        if i in seen:\n",
    "            vertCount+=1\n",
    "        else:\n",
    "            seen.add(i)\n",
    "    return vertCount\n",
    "\n",
    " # Calculate the number of queens in left diagonal conflict\n",
    "def checkHorizConflict(individual):\n",
    "    count=0\n",
    "    seen = set()\n",
    "    for i in individual:\n",
    "        i = np.floor(i/8)\n",
    "        if i in seen:\n",
    "            count+=1\n",
    "        else:\n",
    "            seen.add(i)\n",
    "    return count\n",
    "    \n",
    "# Calculate the number of queen pairs in the same position for any given board\n",
    "def checkDuplicate(individual):\n",
    "    dup = 0\n",
    "    uniqueItems = set()\n",
    "    for i in individual:\n",
    "        if i in uniqueItems:\n",
    "            dup += 1\n",
    "        else:\n",
    "            uniqueItems.add(i)\n",
    "    return dup\n",
    "    \n",
    "    "
   ]
  },
  {
   "cell_type": "code",
   "execution_count": 1045,
   "metadata": {},
   "outputs": [
    {
     "name": "stdout",
     "output_type": "stream",
     "text": [
      "-|-|-|-|-|-|-|X|\n",
      "----------------\n",
      "-|-|-|-|-|-|-|-|\n",
      "----------------\n",
      "-|-|-|X|-|-|-|-|\n",
      "----------------\n",
      "-|-|-|-|-|-|X|-|\n",
      "----------------\n",
      "-|-|-|-|-|-|-|-|\n",
      "----------------\n",
      "-|-|-|-|-|-|X|-|\n",
      "----------------\n",
      "X|-|-|-|-|-|X|-|\n",
      "----------------\n",
      "-|-|X|-|-|X|-|-|\n",
      "----------------\n"
     ]
    }
   ],
   "source": [
    "show_grid(pop[0])"
   ]
  },
  {
   "cell_type": "markdown",
   "metadata": {
    "colab_type": "text",
    "id": "tikbcB_kVOT-"
   },
   "source": [
    "### 5 pts:  Writer your code in the cell below to register \"evaluate\" function to toolbox"
   ]
  },
  {
   "cell_type": "code",
   "execution_count": 1046,
   "metadata": {
    "colab": {},
    "colab_type": "code",
    "id": "_eDjyzBlVOUB"
   },
   "outputs": [],
   "source": [
    "toolbox.register(\"evaluate\", evaFitness)\n",
    "toolbox.register(\"mate\", tools.cxTwoPoint)\n",
    "toolbox.register(\"mutate\", tools.mutUniformInt, low = 0, up = 63, indpb=.125)\n",
    "toolbox.register(\"select\", tools.selTournament, tournsize=3)"
   ]
  },
  {
   "cell_type": "code",
   "execution_count": 1047,
   "metadata": {},
   "outputs": [
    {
     "name": "stdout",
     "output_type": "stream",
     "text": [
      "[60, 13, 55, 4, 61, 50, 34, 43]\n",
      "[60, 13, 55, 4, 61, 21, 34, 43]\n"
     ]
    }
   ],
   "source": [
    "ind = toolbox.individual()\n",
    "print(ind)\n",
    "\n",
    "toolbox.mutate(ind)\n",
    "print(ind)"
   ]
  },
  {
   "cell_type": "code",
   "execution_count": 1048,
   "metadata": {
    "colab": {},
    "colab_type": "code",
    "id": "6uej76HoVOUD"
   },
   "outputs": [],
   "source": [
    "stats = tools.Statistics(key=lambda ind: ind.fitness.values)"
   ]
  },
  {
   "cell_type": "code",
   "execution_count": 1049,
   "metadata": {
    "colab": {},
    "colab_type": "code",
    "id": "W8cWVXmxVOUH"
   },
   "outputs": [],
   "source": [
    "stats.register(\"avg\", np.mean)\n",
    "stats.register(\"min\", np.min)"
   ]
  },
  {
   "cell_type": "markdown",
   "metadata": {
    "colab_type": "text",
    "id": "OmnhqV_MVOUJ"
   },
   "source": [
    "### 10 pts:  Writer your code in the cell below to create the first generation, the hall of fame, and launch the genetic algorithm: eaSimple().   Run the algorithm for 100 generations. "
   ]
  },
  {
   "cell_type": "code",
   "execution_count": 1050,
   "metadata": {
    "colab": {},
    "colab_type": "code",
    "id": "SsTaPuPgVOUK"
   },
   "outputs": [
    {
     "name": "stdout",
     "output_type": "stream",
     "text": [
      "gen\tnevals\tavg  \tmin\n",
      "0  \t500   \t8.624\t4  \n",
      "1  \t270   \t7.95 \t4  \n",
      "2  \t310   \t7.526\t4  \n",
      "3  \t293   \t7.128\t4  \n",
      "4  \t288   \t6.548\t3  \n",
      "5  \t305   \t6.464\t3  \n",
      "6  \t301   \t6.208\t3  \n",
      "7  \t319   \t5.902\t2  \n",
      "8  \t293   \t5.402\t2  \n",
      "9  \t319   \t4.996\t2  \n",
      "10 \t307   \t4.262\t2  \n",
      "11 \t287   \t3.628\t2  \n",
      "12 \t266   \t3.456\t2  \n",
      "13 \t263   \t3.324\t1  \n",
      "14 \t319   \t3.272\t1  \n",
      "15 \t300   \t3.13 \t1  \n",
      "16 \t295   \t2.868\t1  \n",
      "17 \t289   \t2.756\t1  \n",
      "18 \t290   \t2.564\t1  \n",
      "19 \t294   \t2.614\t1  \n",
      "20 \t321   \t2.336\t1  \n",
      "21 \t306   \t1.898\t1  \n",
      "22 \t298   \t1.634\t1  \n",
      "23 \t291   \t1.502\t1  \n",
      "24 \t308   \t1.578\t1  \n",
      "25 \t265   \t1.5  \t1  \n",
      "26 \t318   \t1.608\t1  \n",
      "27 \t306   \t1.516\t1  \n",
      "28 \t310   \t1.512\t1  \n",
      "29 \t306   \t1.514\t1  \n",
      "30 \t281   \t1.472\t1  \n",
      "31 \t321   \t1.518\t1  \n",
      "32 \t296   \t1.512\t1  \n",
      "33 \t273   \t1.428\t1  \n",
      "34 \t292   \t1.452\t1  \n",
      "35 \t307   \t1.41 \t1  \n",
      "36 \t295   \t1.59 \t1  \n",
      "37 \t318   \t1.556\t1  \n",
      "38 \t322   \t1.616\t1  \n",
      "39 \t291   \t1.432\t1  \n",
      "40 \t301   \t1.542\t1  \n",
      "41 \t291   \t1.426\t1  \n",
      "42 \t310   \t1.432\t1  \n",
      "43 \t314   \t1.43 \t1  \n",
      "44 \t290   \t1.544\t1  \n",
      "45 \t303   \t1.488\t1  \n",
      "46 \t331   \t1.544\t1  \n",
      "47 \t317   \t1.494\t1  \n",
      "48 \t296   \t1.462\t1  \n",
      "49 \t304   \t1.44 \t1  \n",
      "50 \t308   \t1.564\t1  \n",
      "51 \t274   \t1.654\t1  \n",
      "52 \t294   \t1.46 \t1  \n",
      "53 \t305   \t1.672\t1  \n",
      "54 \t307   \t1.488\t1  \n",
      "55 \t265   \t1.44 \t1  \n",
      "56 \t311   \t1.466\t1  \n",
      "57 \t307   \t1.428\t1  \n",
      "58 \t269   \t1.434\t1  \n",
      "59 \t310   \t1.588\t1  \n",
      "60 \t277   \t1.504\t1  \n",
      "61 \t316   \t1.496\t1  \n",
      "62 \t315   \t1.584\t1  \n",
      "63 \t299   \t1.508\t1  \n",
      "64 \t322   \t1.576\t1  \n",
      "65 \t305   \t1.55 \t1  \n",
      "66 \t303   \t1.578\t1  \n",
      "67 \t317   \t1.586\t1  \n",
      "68 \t290   \t1.576\t1  \n",
      "69 \t288   \t1.512\t1  \n",
      "70 \t296   \t1.492\t1  \n",
      "71 \t297   \t1.538\t1  \n",
      "72 \t279   \t1.446\t1  \n",
      "73 \t275   \t1.452\t1  \n",
      "74 \t299   \t1.424\t1  \n",
      "75 \t301   \t1.522\t1  \n",
      "76 \t305   \t1.456\t1  \n",
      "77 \t314   \t1.366\t1  \n",
      "78 \t311   \t1.496\t1  \n",
      "79 \t290   \t1.456\t1  \n",
      "80 \t298   \t1.448\t1  \n",
      "81 \t307   \t1.556\t1  \n",
      "82 \t283   \t1.548\t1  \n",
      "83 \t301   \t1.428\t1  \n",
      "84 \t299   \t1.516\t1  \n",
      "85 \t302   \t1.54 \t1  \n",
      "86 \t303   \t1.536\t1  \n",
      "87 \t331   \t1.388\t1  \n",
      "88 \t309   \t1.476\t1  \n",
      "89 \t317   \t1.474\t1  \n",
      "90 \t297   \t1.546\t1  \n",
      "91 \t275   \t1.382\t1  \n",
      "92 \t311   \t1.58 \t1  \n",
      "93 \t309   \t1.508\t1  \n",
      "94 \t299   \t1.424\t1  \n",
      "95 \t307   \t1.384\t1  \n",
      "96 \t319   \t1.592\t1  \n",
      "97 \t294   \t1.534\t1  \n",
      "98 \t294   \t1.448\t1  \n",
      "99 \t341   \t1.63 \t1  \n",
      "100\t273   \t1.446\t1  \n"
     ]
    }
   ],
   "source": [
    "import matplotlib.pyplot as plt\n",
    "%matplotlib inline  \n",
    "\n",
    "hof = tools.HallOfFame(maxsize=1)\n",
    "\n",
    "pop, log= algorithms.eaSimple(pop, toolbox, cxpb=0.5, mutpb=0.2, ngen=100, stats=stats, halloffame=hof, verbose=True)\n",
    "\n"
   ]
  },
  {
   "cell_type": "markdown",
   "metadata": {
    "colab_type": "text",
    "id": "OkApdsjQVOUL"
   },
   "source": [
    "### 5 pts:  Plot the \"avg\" and \"min\" for each generation"
   ]
  },
  {
   "cell_type": "code",
   "execution_count": 1051,
   "metadata": {
    "colab": {},
    "colab_type": "code",
    "id": "gcFc3eOyVOUM",
    "scrolled": true
   },
   "outputs": [
    {
     "data": {
      "image/png": "[encoded data removed]",
      "text/plain": [
       "<Figure size 432x288 with 1 Axes>"
      ]
     },
     "metadata": {
      "needs_background": "light"
     },
     "output_type": "display_data"
    }
   ],
   "source": [
    "gen, avg, min_ = log.select(\"gen\", \"avg\", \"min\")\n",
    "\n",
    "plt.plot(gen, avg, label=\"average\")\n",
    "plt.plot(gen, min_, label=\"minimum\")\n",
    "plt.xlabel(\"Generation\")\n",
    "plt.ylabel(\"Fitness\")\n",
    "plt.legend(loc=\"lower right\")\n",
    "plt.show()"
   ]
  },
  {
   "cell_type": "markdown",
   "metadata": {
    "colab_type": "text",
    "id": "t6PFTvUZVOUN"
   },
   "source": [
    "### 5 pts:  Print out the best individual found and its fitness value.  Show the best individual as chessboard"
   ]
  },
  {
   "cell_type": "code",
   "execution_count": 1052,
   "metadata": {
    "colab": {},
    "colab_type": "code",
    "id": "-MeBQ0BZVOUO"
   },
   "outputs": [
    {
     "name": "stdout",
     "output_type": "stream",
     "text": [
      "Best individual is: [62, 9, 4, 34, 50, 47, 19, 24]\n",
      "With fitness:  (1,)\n",
      "-|-|-|-|X|-|-|-|\n",
      "----------------\n",
      "-|X|-|-|-|-|-|-|\n",
      "----------------\n",
      "-|-|-|X|-|-|-|-|\n",
      "----------------\n",
      "X|-|-|-|-|-|-|-|\n",
      "----------------\n",
      "-|-|X|-|-|-|-|-|\n",
      "----------------\n",
      "-|-|-|-|-|-|-|X|\n",
      "----------------\n",
      "-|-|X|-|-|-|-|-|\n",
      "----------------\n",
      "-|-|-|-|-|-|X|-|\n",
      "----------------\n"
     ]
    }
   ],
   "source": [
    "best_ind = tools.selBest(pop, k=1)[0]\n",
    "print('Best individual is:', best_ind)\n",
    "print('With fitness: ', toolbox.evaluate(best_ind))\n",
    "show_grid(best_ind)"
   ]
  },
  {
   "cell_type": "markdown",
   "metadata": {
    "colab_type": "text",
    "id": "_PCJJdWAVOUP"
   },
   "source": [
    "## Part II: Row-index-based board representation"
   ]
  },
  {
   "cell_type": "code",
   "execution_count": 898,
   "metadata": {
    "colab": {},
    "colab_type": "code",
    "id": "BF0R7swEVOUQ"
   },
   "outputs": [
    {
     "name": "stderr",
     "output_type": "stream",
     "text": [
      "/Users/derrekgass/anaconda3/lib/python3.7/site-packages/deap/creator.py:141: RuntimeWarning: A class named 'FitnessMin' has already been created and it will be overwritten. Consider deleting previous creation of that class or rename it.\n",
      "  RuntimeWarning)\n",
      "/Users/derrekgass/anaconda3/lib/python3.7/site-packages/deap/creator.py:141: RuntimeWarning: A class named 'Individual' has already been created and it will be overwritten. Consider deleting previous creation of that class or rename it.\n",
      "  RuntimeWarning)\n"
     ]
    }
   ],
   "source": [
    "import random\n",
    "import numpy as np\n",
    "from deap import algorithms, base, creator, tools\n",
    "\n",
    "creator.create(\"FitnessMin\", base.Fitness, weights=(-1.0,))\n",
    "creator.create(\"Individual\", list, fitness=creator.FitnessMin)\n"
   ]
  },
  {
   "cell_type": "markdown",
   "metadata": {
    "colab_type": "text",
    "id": "YCwVbnHrVOUS"
   },
   "source": [
    "Each row of the chess row is indexed from 0->7 . we place different queens on different rows initially.  The sequence [ a b c d .... ] means that in $0^{th}$ row, $a^{th}$ column, the queen is present and so on"
   ]
  },
  {
   "cell_type": "code",
   "execution_count": 899,
   "metadata": {
    "colab": {},
    "colab_type": "code",
    "id": "n4II9oePVOUS"
   },
   "outputs": [],
   "source": [
    "toolbox = base.Toolbox()\n",
    "\n",
    "toolbox.register(\"attr_int\", random.randint, 0, 7)\n",
    "toolbox.register(\"individual\", tools.initRepeat, creator.Individual,\n",
    "                 toolbox.attr_int, n=8)"
   ]
  },
  {
   "cell_type": "code",
   "execution_count": 900,
   "metadata": {
    "colab": {},
    "colab_type": "code",
    "id": "W-tn8be2VOUU"
   },
   "outputs": [
    {
     "data": {
      "text/plain": [
       "[2, 2, 0, 5, 6, 3, 4, 2]"
      ]
     },
     "execution_count": 900,
     "metadata": {},
     "output_type": "execute_result"
    }
   ],
   "source": [
    "toolbox.individual()"
   ]
  },
  {
   "cell_type": "code",
   "execution_count": 901,
   "metadata": {
    "colab": {},
    "colab_type": "code",
    "id": "97EqErd3VOUX"
   },
   "outputs": [],
   "source": [
    "def show_grid(board):\n",
    "    \n",
    "    n = [0]*64\n",
    "    \n",
    "    for i in range(len(board)):\n",
    "        n[board[i] + i*8] = 1\n",
    "      \n",
    "    \n",
    "    for i in range(8):\n",
    "        for j in range(64):\n",
    "            if j // 8 == i:\n",
    "                if n[j] == 1:\n",
    "                    print('X',end=\"|\")\n",
    "                else:\n",
    "                    print('-',end=\"|\")\n",
    "        print()\n",
    "        print(\"----------------\")\n"
   ]
  },
  {
   "cell_type": "code",
   "execution_count": 902,
   "metadata": {
    "colab": {},
    "colab_type": "code",
    "id": "UxkDfoxbVOUb"
   },
   "outputs": [],
   "source": [
    "toolbox.register(\"population\", tools.initRepeat, list, toolbox.individual)"
   ]
  },
  {
   "cell_type": "code",
   "execution_count": 903,
   "metadata": {
    "colab": {},
    "colab_type": "code",
    "id": "lcY06x24VOUe"
   },
   "outputs": [
    {
     "name": "stdout",
     "output_type": "stream",
     "text": [
      "[7, 5, 5, 4, 2, 0, 1, 6]\n"
     ]
    }
   ],
   "source": [
    "pop = toolbox.population(n=5)\n",
    "\n",
    "print(pop[0])"
   ]
  },
  {
   "cell_type": "code",
   "execution_count": 904,
   "metadata": {
    "colab": {},
    "colab_type": "code",
    "id": "KYoqKKm8VOUg"
   },
   "outputs": [
    {
     "name": "stdout",
     "output_type": "stream",
     "text": [
      "-|-|-|-|-|-|-|X|\n",
      "----------------\n",
      "-|-|-|-|-|X|-|-|\n",
      "----------------\n",
      "-|-|-|-|-|X|-|-|\n",
      "----------------\n",
      "-|-|-|-|X|-|-|-|\n",
      "----------------\n",
      "-|-|X|-|-|-|-|-|\n",
      "----------------\n",
      "X|-|-|-|-|-|-|-|\n",
      "----------------\n",
      "-|X|-|-|-|-|-|-|\n",
      "----------------\n",
      "-|-|-|-|-|-|X|-|\n",
      "----------------\n"
     ]
    }
   ],
   "source": [
    "show_grid(pop[0])"
   ]
  },
  {
   "cell_type": "markdown",
   "metadata": {
    "colab_type": "text",
    "id": "6_wZvS3mVOUh"
   },
   "source": [
    "### 10 pts:  Write your code in the cell below to define the \"evaFitness\" function, which return the fitness of any given board\n",
    "\n",
    "- evaFitness() returns the total number of distinct pairs of queens that attack each other.  \n",
    "\n",
    "- The following are some test cases you may use to verify the correctness of the evaFitness() function:\n",
    "\n",
    " * evaFitness([0, 2, 6, 7, 7, 4, 1, 6]) should return (4,)\n",
    "\n",
    " * evaFitness([7, 5, 2, 4, 3, 1, 3, 5]) should return (6,)\n",
    "\n",
    " * evaFitness([3, 1, 6, 0, 5, 7, 2, 1]) should return (5,)\n",
    "\n",
    " * evaFitness([7, 3, 1, 4, 5, 1, 3, 5]) should return (6,)\n",
    "\n"
   ]
  },
  {
   "cell_type": "code",
   "execution_count": 905,
   "metadata": {
    "colab": {},
    "colab_type": "code",
    "id": "bk1Rn57oVOUi"
   },
   "outputs": [],
   "source": [
    "#fitness function\n",
    "def evaFitness(individual):\n",
    "    \n",
    "    conflict = 0\n",
    "    conflict += checkDuplicate(individual)    \n",
    "    conflict += checkDiag(individual)\n",
    "    \n",
    "    return (conflict,)\n",
    "\n",
    "# Calculate the number of queen pairs in the same position for any given board\n",
    "def checkDuplicate(individual):\n",
    "    dup = 0\n",
    "    uniqueItems = set()\n",
    "    for i in individual:\n",
    "        if i in uniqueItems:\n",
    "            dup += 1\n",
    "        else:\n",
    "            uniqueItems.add(i)\n",
    "    return dup\n",
    "    \n",
    "\n",
    "def checkDiag(individual):\n",
    "    \n",
    "    size = len(individual)\n",
    "    left_diagonal = [0] * (2*size-1)\n",
    "    right_diagonal = [0] * (2*size-1)\n",
    "    \n",
    "    #Sum the number of queens on each diagonal:\n",
    "    for i in range(size):\n",
    "        left_diagonal[i+individual[i]] += 1\n",
    "        right_diagonal[size-1-i+individual[i]] += 1\n",
    "    \n",
    "    #Count the number of conflicts on each diagonal\n",
    "    count = 0\n",
    "    for i in range(2*size-1):\n",
    "        if left_diagonal[i] > 1:\n",
    "            count += left_diagonal[i] - 1\n",
    "        if right_diagonal[i] > 1:\n",
    "            count += right_diagonal[i] - 1\n",
    "    return count\n",
    "    \n",
    "    "
   ]
  },
  {
   "cell_type": "code",
   "execution_count": 906,
   "metadata": {},
   "outputs": [
    {
     "data": {
      "text/plain": [
       "5"
      ]
     },
     "execution_count": 906,
     "metadata": {},
     "output_type": "execute_result"
    }
   ],
   "source": [
    "checkDiag(pop[0])"
   ]
  },
  {
   "cell_type": "code",
   "execution_count": 920,
   "metadata": {},
   "outputs": [
    {
     "data": {
      "text/plain": [
       "(6,)"
      ]
     },
     "execution_count": 920,
     "metadata": {},
     "output_type": "execute_result"
    }
   ],
   "source": [
    "t"
   ]
  },
  {
   "cell_type": "markdown",
   "metadata": {
    "colab_type": "text",
    "id": "MLkixA1YVOUj"
   },
   "source": [
    "### 5 pts:  Writer your code in the cell below to register \"evaluate\" function to toolbox"
   ]
  },
  {
   "cell_type": "code",
   "execution_count": 913,
   "metadata": {
    "colab": {},
    "colab_type": "code",
    "id": "TMwldAeuVOUk"
   },
   "outputs": [],
   "source": [
    "toolbox.register(\"evaluate\", evaFitness)"
   ]
  },
  {
   "cell_type": "code",
   "execution_count": 914,
   "metadata": {
    "colab": {},
    "colab_type": "code",
    "id": "O-xOKMI4VOUl"
   },
   "outputs": [],
   "source": [
    "toolbox.register(\"mate\", tools.cxTwoPoint)\n",
    "toolbox.register(\"mutate\", tools.mutUniformInt, low = 0, up = 7, indpb=0.1)\n",
    "toolbox.register(\"select\", tools.selTournament, tournsize=3)"
   ]
  },
  {
   "cell_type": "code",
   "execution_count": 915,
   "metadata": {
    "colab": {},
    "colab_type": "code",
    "id": "R1jlpMTNVOUn"
   },
   "outputs": [],
   "source": [
    "stats = tools.Statistics(key=lambda ind: ind.fitness.values)\n",
    "stats.register(\"avg\", np.mean)\n",
    "stats.register(\"min\", np.min)"
   ]
  },
  {
   "cell_type": "markdown",
   "metadata": {
    "colab_type": "text",
    "id": "pyRth-sHVOUq"
   },
   "source": [
    "### 10 pts:  Writer your code in the cell below to create the first generation, the hall of fame, and launch the genetic algorithm: eaSimple().   Run the algorithm for 100 generations. "
   ]
  },
  {
   "cell_type": "code",
   "execution_count": 916,
   "metadata": {
    "colab": {},
    "colab_type": "code",
    "id": "3aJJcDUVVOUq"
   },
   "outputs": [
    {
     "name": "stdout",
     "output_type": "stream",
     "text": [
      "gen\tnevals\tavg\tmin\n",
      "0  \t0     \t2.6\t2  \n",
      "1  \t1     \t2.4\t2  \n",
      "2  \t3     \t2.6\t2  \n",
      "3  \t3     \t2.8\t2  \n",
      "4  \t3     \t2.8\t2  \n",
      "5  \t0     \t2  \t2  \n",
      "6  \t0     \t2  \t2  \n",
      "7  \t4     \t3  \t2  \n",
      "8  \t3     \t2.2\t2  \n",
      "9  \t4     \t2  \t2  \n",
      "10 \t2     \t2  \t2  \n",
      "11 \t2     \t3  \t2  \n",
      "12 \t3     \t2  \t2  \n",
      "13 \t1     \t2  \t2  \n",
      "14 \t2     \t2.8\t2  \n",
      "15 \t4     \t2  \t2  \n",
      "16 \t4     \t2.8\t2  \n",
      "17 \t2     \t2  \t2  \n",
      "18 \t2     \t2  \t2  \n",
      "19 \t5     \t2.2\t2  \n",
      "20 \t3     \t2  \t2  \n",
      "21 \t3     \t2.6\t2  \n",
      "22 \t0     \t2  \t2  \n",
      "23 \t3     \t2  \t2  \n",
      "24 \t4     \t2.4\t2  \n",
      "25 \t2     \t2  \t2  \n",
      "26 \t4     \t2  \t2  \n",
      "27 \t4     \t2  \t2  \n",
      "28 \t3     \t2.4\t2  \n",
      "29 \t2     \t2  \t2  \n",
      "30 \t4     \t2  \t2  \n",
      "31 \t2     \t2  \t2  \n",
      "32 \t4     \t2.2\t2  \n",
      "33 \t3     \t2.2\t2  \n",
      "34 \t1     \t2  \t2  \n",
      "35 \t4     \t2  \t2  \n",
      "36 \t2     \t2  \t2  \n",
      "37 \t0     \t2  \t2  \n",
      "38 \t5     \t2.4\t2  \n",
      "39 \t3     \t2.6\t2  \n",
      "40 \t4     \t2  \t2  \n",
      "41 \t5     \t2.4\t2  \n",
      "42 \t3     \t3  \t2  \n",
      "43 \t3     \t2.4\t2  \n",
      "44 \t2     \t2.4\t2  \n",
      "45 \t2     \t2  \t2  \n",
      "46 \t1     \t2.8\t2  \n",
      "47 \t5     \t2.2\t2  \n",
      "48 \t4     \t2  \t0  \n",
      "49 \t3     \t1.8\t0  \n",
      "50 \t2     \t0  \t0  \n",
      "51 \t3     \t0.6\t0  \n",
      "52 \t2     \t0.8\t0  \n",
      "53 \t2     \t0  \t0  \n",
      "54 \t2     \t0  \t0  \n",
      "55 \t4     \t0.4\t0  \n",
      "56 \t4     \t1.4\t0  \n",
      "57 \t1     \t0.8\t0  \n",
      "58 \t4     \t0  \t0  \n",
      "59 \t4     \t1.4\t0  \n",
      "60 \t5     \t0.4\t0  \n",
      "61 \t2     \t0  \t0  \n",
      "62 \t1     \t1  \t0  \n",
      "63 \t4     \t1  \t0  \n",
      "64 \t0     \t0  \t0  \n",
      "65 \t3     \t0.8\t0  \n",
      "66 \t2     \t0  \t0  \n",
      "67 \t3     \t0.4\t0  \n",
      "68 \t4     \t0  \t0  \n",
      "69 \t3     \t0  \t0  \n",
      "70 \t4     \t0  \t0  \n",
      "71 \t4     \t1.2\t0  \n",
      "72 \t4     \t2  \t0  \n",
      "73 \t3     \t0.4\t0  \n",
      "74 \t3     \t0  \t0  \n",
      "75 \t2     \t0  \t0  \n",
      "76 \t3     \t0  \t0  \n",
      "77 \t3     \t0.4\t0  \n",
      "78 \t4     \t0  \t0  \n",
      "79 \t3     \t0  \t0  \n",
      "80 \t2     \t0.4\t0  \n",
      "81 \t4     \t0.4\t0  \n",
      "82 \t4     \t0  \t0  \n",
      "83 \t2     \t0.2\t0  \n",
      "84 \t4     \t0.6\t0  \n",
      "85 \t3     \t0.8\t0  \n",
      "86 \t0     \t0  \t0  \n",
      "87 \t4     \t0  \t0  \n",
      "88 \t1     \t0.4\t0  \n",
      "89 \t2     \t0  \t0  \n",
      "90 \t3     \t0  \t0  \n",
      "91 \t2     \t0  \t0  \n",
      "92 \t1     \t0.6\t0  \n",
      "93 \t4     \t0.6\t0  \n",
      "94 \t2     \t0  \t0  \n",
      "95 \t3     \t0.6\t0  \n",
      "96 \t4     \t0.4\t0  \n",
      "97 \t1     \t0.6\t0  \n",
      "98 \t2     \t0.4\t0  \n",
      "99 \t2     \t0  \t0  \n",
      "100\t4     \t0  \t0  \n"
     ]
    }
   ],
   "source": [
    "hof = tools.HallOfFame(maxsize=1)\n",
    "pop, log= algorithms.eaSimple(pop, toolbox, cxpb=0.5, mutpb=0.2, ngen=100, stats=stats, halloffame=hof, verbose=True)"
   ]
  },
  {
   "cell_type": "markdown",
   "metadata": {
    "colab_type": "text",
    "id": "xrJfr0ePVOUs"
   },
   "source": [
    "### 5 pts:  Plot the \"avg\" and \"min\" for each generation"
   ]
  },
  {
   "cell_type": "code",
   "execution_count": 917,
   "metadata": {
    "colab": {},
    "colab_type": "code",
    "id": "LJyAUq4WVOUs"
   },
   "outputs": [
    {
     "data": {
      "image/png": "[encoded data removed]",
      "text/plain": [
       "<Figure size 432x288 with 1 Axes>"
      ]
     },
     "metadata": {
      "needs_background": "light"
     },
     "output_type": "display_data"
    }
   ],
   "source": [
    "gen, avg, min_ = log.select(\"gen\", \"avg\", \"min\")\n",
    "\n",
    "plt.plot(gen, avg, label=\"average\")\n",
    "plt.plot(gen, min_, label=\"minimum\")\n",
    "plt.xlabel(\"Generation\")\n",
    "plt.ylabel(\"Fitness\")\n",
    "plt.legend(loc=\"lower right\")\n",
    "plt.show()"
   ]
  },
  {
   "cell_type": "markdown",
   "metadata": {
    "colab_type": "text",
    "id": "ry6HXqIMVOUv"
   },
   "source": [
    "### 5 pts:  Print out the best individual found and its fitness value.  Show the best individual as chessboard"
   ]
  },
  {
   "cell_type": "code",
   "execution_count": 918,
   "metadata": {
    "colab": {},
    "colab_type": "code",
    "id": "PkC9uOqCVOUv"
   },
   "outputs": [
    {
     "name": "stdout",
     "output_type": "stream",
     "text": [
      "Best individual is: [3, 7, 4, 2, 0, 6, 1, 5]\n",
      "With fitness:  (0,)\n",
      "-|-|-|X|-|-|-|-|\n",
      "----------------\n",
      "-|-|-|-|-|-|-|X|\n",
      "----------------\n",
      "-|-|-|-|X|-|-|-|\n",
      "----------------\n",
      "-|-|X|-|-|-|-|-|\n",
      "----------------\n",
      "X|-|-|-|-|-|-|-|\n",
      "----------------\n",
      "-|-|-|-|-|-|X|-|\n",
      "----------------\n",
      "-|X|-|-|-|-|-|-|\n",
      "----------------\n",
      "-|-|-|-|-|X|-|-|\n",
      "----------------\n"
     ]
    }
   ],
   "source": [
    "best_ind = tools.selBest(pop, k=1)[0]\n",
    "print('Best individual is:', best_ind)\n",
    "print('With fitness: ', toolbox.evaluate(best_ind))\n",
    "show_grid(best_ind)"
   ]
  },
  {
   "cell_type": "markdown",
   "metadata": {
    "colab_type": "text",
    "id": "qhba2jQ1VOUw"
   },
   "source": [
    "### Reflection:  Which board representaion is better?   Try different parameter values for mutation and crossover or vary the number of generations you want to go through, and write your findings in the report.     "
   ]
  },
  {
   "cell_type": "code",
   "execution_count": null,
   "metadata": {},
   "outputs": [],
   "source": []
  }
 ],
 "metadata": {
  "colab": {
   "collapsed_sections": [],
   "name": "DEAP n queens_on-canvas.ipynb",
   "provenance": [],
   "toc_visible": true,
   "version": "0.3.2"
  },
  "kernelspec": {
   "display_name": "Python 3",
   "language": "python",
   "name": "python3"
  },
  "language_info": {
   "codemirror_mode": {
    "name": "ipython",
    "version": 3
   },
   "file_extension": ".py",
   "mimetype": "text/x-python",
   "name": "python",
   "nbconvert_exporter": "python",
   "pygments_lexer": "ipython3",
   "version": "3.7.0"
  }
 },
 "nbformat": 4,
 "nbformat_minor": 2
}
