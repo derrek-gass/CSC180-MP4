{
 "cells": [
  {
   "cell_type": "markdown",
   "metadata": {
    "colab_type": "text",
    "id": "GxGA1SMjVOTm"
   },
   "source": [
    "## Mini-Project 4:  Solving n-queens Problem using Evolutionary Computation\n",
    "\n",
    "#### CSC 180  Intelligent Systems (Fall 2019)\n",
    "\n",
    "#### Dr. Haiquan Chen, California State University, Sacramento\n",
    "\n",
    "\n"
   ]
  },
  {
   "cell_type": "code",
   "execution_count": 315,
   "metadata": {},
   "outputs": [],
   "source": [
    "# Derrek Gass (219615449)\n",
    "# Alexander Lee (212490812)\n",
    "# CSC180 - Intelligent Systems\n",
    "# Mini-Project 4\n",
    "# 11-14-19"
   ]
  },
  {
   "cell_type": "markdown",
   "metadata": {
    "colab_type": "text",
    "id": "HibX8kusV5PD"
   },
   "source": [
    "\n",
    "## Part I: Position-index-based board representation"
   ]
  },
  {
   "cell_type": "code",
   "execution_count": 375,
   "metadata": {
    "colab": {},
    "colab_type": "code",
    "id": "LcEVm7paVOTo"
   },
   "outputs": [
    {
     "name": "stderr",
     "output_type": "stream",
     "text": [
      "/Users/derrekgass/anaconda3/lib/python3.7/site-packages/deap/creator.py:141: RuntimeWarning: A class named 'FitnessMin' has already been created and it will be overwritten. Consider deleting previous creation of that class or rename it.\n",
      "  RuntimeWarning)\n",
      "/Users/derrekgass/anaconda3/lib/python3.7/site-packages/deap/creator.py:141: RuntimeWarning: A class named 'Individual' has already been created and it will be overwritten. Consider deleting previous creation of that class or rename it.\n",
      "  RuntimeWarning)\n"
     ]
    }
   ],
   "source": [
    "import random\n",
    "import numpy as np\n",
    "from deap import algorithms, base, creator, tools\n",
    "\n",
    "creator.create(\"FitnessMin\", base.Fitness, weights=(-1.0,))\n",
    "creator.create(\"Individual\", list, fitness=creator.FitnessMin)\n"
   ]
  },
  {
   "cell_type": "code",
   "execution_count": 376,
   "metadata": {
    "colab": {},
    "colab_type": "code",
    "id": "AjYwh9eYVOTt"
   },
   "outputs": [],
   "source": [
    "def create_individual():\n",
    "    return random.sample(range(64), 8)"
   ]
  },
  {
   "cell_type": "code",
   "execution_count": 377,
   "metadata": {
    "colab": {},
    "colab_type": "code",
    "id": "V3rgKtu_VOTv"
   },
   "outputs": [
    {
     "name": "stdout",
     "output_type": "stream",
     "text": [
      "[56, 31, 1, 52, 11, 50, 34, 49]\n"
     ]
    }
   ],
   "source": [
    "print(create_individual())"
   ]
  },
  {
   "cell_type": "code",
   "execution_count": 378,
   "metadata": {
    "colab": {},
    "colab_type": "code",
    "id": "ekoiWdxDVOTy"
   },
   "outputs": [],
   "source": [
    "def show_grid(board):\n",
    "    \n",
    "    n = [0]*64\n",
    "    for i in board:\n",
    "        n[i] = 1\n",
    "    \n",
    "    \n",
    "    for i in range(8):\n",
    "        for j in range(64):\n",
    "            if j // 8 == i:\n",
    "                if n[j] == 1:\n",
    "                    print('X',end=\"|\")\n",
    "                else:\n",
    "                    print('-',end=\"|\")\n",
    "        print()\n",
    "        print(\"----------------\")\n"
   ]
  },
  {
   "cell_type": "code",
   "execution_count": 380,
   "metadata": {
    "colab": {},
    "colab_type": "code",
    "id": "N8XtgeUKVOT0"
   },
   "outputs": [],
   "source": [
    "toolbox = base.Toolbox()\n",
    "toolbox.register(\"individual\", tools.initIterate, creator.Individual, create_individual)\n",
    "\n",
    "toolbox.register(\"population\", tools.initRepeat, list, toolbox.individual)"
   ]
  },
  {
   "cell_type": "code",
   "execution_count": 381,
   "metadata": {
    "colab": {},
    "colab_type": "code",
    "id": "YTk0VOT-VOT3"
   },
   "outputs": [],
   "source": [
    "pop = toolbox.population(n=50)"
   ]
  },
  {
   "cell_type": "code",
   "execution_count": 382,
   "metadata": {
    "colab": {},
    "colab_type": "code",
    "id": "letgI4JkVOT6"
   },
   "outputs": [
    {
     "name": "stdout",
     "output_type": "stream",
     "text": [
      "-|X|-|-|-|-|-|-|\n",
      "----------------\n",
      "-|-|-|-|-|-|X|-|\n",
      "----------------\n",
      "-|-|X|-|-|-|-|X|\n",
      "----------------\n",
      "-|-|-|-|-|-|-|-|\n",
      "----------------\n",
      "-|-|-|-|-|-|-|X|\n",
      "----------------\n",
      "X|-|-|-|-|-|-|X|\n",
      "----------------\n",
      "-|X|-|-|-|-|-|-|\n",
      "----------------\n",
      "-|-|-|-|-|-|-|-|\n",
      "----------------\n"
     ]
    }
   ],
   "source": [
    "show_grid(pop[0])"
   ]
  },
  {
   "cell_type": "code",
   "execution_count": 383,
   "metadata": {},
   "outputs": [
    {
     "name": "stdout",
     "output_type": "stream",
     "text": [
      "[47, 18, 40, 39, 23, 49, 14, 1]\n",
      "[27, 61, 30, 20, 17, 4, 8, 45]\n",
      "[29, 12, 47, 55, 63, 32, 28, 21]\n",
      "[16, 2, 36, 30, 55, 31, 24, 32]\n",
      "[30, 29, 19, 28, 5, 34, 2, 43]\n",
      "[35, 52, 1, 29, 30, 3, 27, 43]\n",
      "[36, 6, 52, 23, 29, 47, 39, 40]\n",
      "[63, 61, 34, 62, 45, 37, 32, 54]\n",
      "[38, 18, 21, 16, 48, 4, 57, 63]\n",
      "[41, 8, 59, 61, 10, 37, 62, 18]\n",
      "[19, 62, 12, 54, 6, 2, 15, 37]\n",
      "[7, 41, 32, 40, 57, 9, 28, 52]\n",
      "[53, 6, 26, 38, 59, 24, 25, 4]\n",
      "[2, 21, 10, 58, 42, 23, 27, 29]\n",
      "[16, 54, 3, 20, 39, 7, 12, 52]\n",
      "[52, 1, 46, 58, 51, 63, 26, 8]\n",
      "[17, 22, 46, 28, 15, 37, 42, 0]\n",
      "[16, 14, 18, 45, 38, 4, 49, 20]\n",
      "[19, 46, 8, 6, 14, 29, 12, 5]\n",
      "[41, 48, 7, 27, 25, 59, 22, 55]\n",
      "[58, 37, 18, 33, 22, 9, 1, 38]\n",
      "[60, 13, 21, 0, 33, 58, 2, 47]\n",
      "[4, 13, 17, 2, 60, 40, 61, 10]\n",
      "[41, 63, 35, 48, 30, 11, 26, 60]\n",
      "[30, 12, 50, 34, 46, 16, 57, 43]\n",
      "[38, 8, 25, 29, 1, 19, 3, 40]\n",
      "[28, 52, 35, 18, 19, 22, 26, 58]\n",
      "[53, 44, 59, 1, 39, 0, 20, 22]\n",
      "[21, 37, 36, 27, 32, 45, 57, 13]\n",
      "[13, 10, 25, 40, 27, 24, 4, 32]\n",
      "[26, 54, 62, 33, 23, 34, 25, 48]\n",
      "[18, 31, 33, 56, 34, 42, 39, 44]\n",
      "[26, 44, 5, 53, 24, 15, 40, 25]\n",
      "[59, 6, 38, 61, 63, 18, 49, 31]\n",
      "[50, 26, 9, 15, 53, 29, 41, 6]\n",
      "[48, 9, 34, 59, 11, 2, 38, 33]\n",
      "[3, 1, 13, 55, 18, 27, 37, 61]\n",
      "[51, 13, 4, 40, 60, 50, 9, 16]\n",
      "[48, 11, 10, 38, 14, 43, 18, 27]\n",
      "[31, 42, 63, 25, 3, 13, 12, 44]\n",
      "[8, 20, 21, 31, 12, 4, 14, 0]\n",
      "[28, 1, 53, 49, 20, 31, 10, 19]\n",
      "[36, 48, 22, 59, 37, 46, 34, 47]\n",
      "[2, 49, 4, 48, 8, 39, 15, 62]\n",
      "[8, 45, 51, 17, 57, 19, 31, 58]\n",
      "[51, 7, 26, 8, 49, 53, 56, 61]\n",
      "[1, 40, 34, 42, 36, 7, 61, 38]\n",
      "[50, 46, 4, 3, 36, 41, 27, 32]\n",
      "[21, 19, 30, 37, 35, 23, 53, 33]\n",
      "[1, 34, 2, 9, 4, 6, 53, 32]\n"
     ]
    }
   ],
   "source": [
    "for i in range(len(pop)):\n",
    "    print(pop[i])"
   ]
  },
  {
   "cell_type": "markdown",
   "metadata": {
    "colab_type": "text",
    "id": "qzj4Y0L5VOT8"
   },
   "source": [
    "### 10 pts:  Write your code in the cell below to define the \"evaFitness\" function, which return the fitness of any given board.  \n",
    "\n",
    "- Noticed that in this case, mutation may generate invalid board, e.g., the board with dupliciate positions.  Think about   [5, 32, 8, 8, 41, 3, 55, 49]\n",
    "\n",
    "- How to exclude those invalid boards from each generation? One way is to add some penalty to the fitness value of invalid boards.  In that case, any invalid board will have a very high fitness value (remember that our goal is to find the board with least fitness value).    To do that, let's write a function ***checkDuplicate()*** to calculate the number of queen pairs in the same position for any given board and add that function to the fitness value. \n",
    "\n",
    "-  evaFitness() returns the total number of duplicate position pair plus the total number of distinct pairs of queens that attack each other.  "
   ]
  },
  {
   "cell_type": "code",
   "execution_count": 391,
   "metadata": {
    "colab": {},
    "colab_type": "code",
    "id": "ZTHRSMRMVOT8"
   },
   "outputs": [],
   "source": [
    "#fitness function\n",
    "def evaFitness(individual):\n",
    "    conflict = 0\n",
    "    conflict += checkDuplicate(individual)\n",
    "    conflict += checkBackslashConflict(individual)\n",
    "   # conflict += checkForwardslashConflict(individual)\n",
    "    conflict += checkVertConflict(individual)\n",
    "    conflict += checkHorizConflict(individual)\n",
    "    return (conflict),\n",
    "    \n",
    "    \n",
    "# Calculate the number of queens in left diagonal conflict\n",
    "def checkBackslashConflict(individual):\n",
    "    count=0\n",
    "    seen = set()\n",
    "    n = 1\n",
    "    for i in individual:\n",
    "        row = np.floor(i/8)    # rows\n",
    "        col = i % 8            # columns\n",
    "        if i in seen:\n",
    "            count+=1\n",
    "        else:\n",
    "            n = 1\n",
    "            seen.add(i)\n",
    "            while (n < 8):\n",
    "                j = (i+(n*8)+n)%63  # from the left to right\n",
    "                n+=1   \n",
    "                seen.add(j)\n",
    "    return count\n",
    "\n",
    "\n",
    "# this is the one that no worky\n",
    "# Calculate the number of queens in right diagonal conflict\n",
    "def checkForwardslashConflict(individual):\n",
    "    count=0\n",
    "    seen = set()\n",
    "    for i in individual:\n",
    "        row = np.floor(i/8)    # rows\n",
    "        col = i % 8            # columns\n",
    "        if i in seen:\n",
    "            count+=1\n",
    "        else:\n",
    "            n = 1\n",
    "            seen.add(i)\n",
    "            while (n <8):\n",
    "                j = (i+(n*8)-n)%63  # down to the Right\n",
    "                n+=1   \n",
    "                seen.add(j)\n",
    "    return count\n",
    "\n",
    " # Calculate the number of queens in left diagonal conflict\n",
    "def checkVertConflict(individual):\n",
    "    vertCount=0\n",
    "    seen = set()\n",
    "    for i in individual:\n",
    "        i = i%8\n",
    "        if i in seen:\n",
    "            vertCount+=1\n",
    "        else:\n",
    "            seen.add(i)\n",
    "    return vertCount\n",
    "\n",
    " # Calculate the number of queens in left diagonal conflict\n",
    "def checkHorizConflict(individual):\n",
    "    count=0\n",
    "    seen = set()\n",
    "    for i in individual:\n",
    "        i = np.floor(i/8)\n",
    "        if i in seen:\n",
    "            count+=1\n",
    "        else:\n",
    "            seen.add(i)\n",
    "    return count\n",
    "    \n",
    "# Calculate the number of queen pairs in the same position for any given board\n",
    "def checkDuplicate(individual):\n",
    "    dup = 0\n",
    "    uniqueItems = set()\n",
    "    for i in individual:\n",
    "        if i in uniqueItems:\n",
    "            dup += 1\n",
    "        else:\n",
    "            uniqueItems.add(i)\n",
    "    return dup\n",
    "    \n",
    "    "
   ]
  },
  {
   "cell_type": "code",
   "execution_count": 394,
   "metadata": {},
   "outputs": [
    {
     "name": "stdout",
     "output_type": "stream",
     "text": [
      "-|X|-|X|-|-|-|-|\n",
      "----------------\n",
      "X|-|-|-|-|-|-|-|\n",
      "----------------\n",
      "-|-|-|X|-|-|-|-|\n",
      "----------------\n",
      "-|X|-|-|-|X|-|-|\n",
      "----------------\n",
      "-|-|-|-|-|-|X|-|\n",
      "----------------\n",
      "X|-|-|-|-|-|-|-|\n",
      "----------------\n",
      "-|-|-|-|-|-|-|-|\n",
      "----------------\n",
      "-|-|-|-|-|-|-|-|\n",
      "----------------\n"
     ]
    }
   ],
   "source": [
    "show_grid(pop[25])"
   ]
  },
  {
   "cell_type": "code",
   "execution_count": 395,
   "metadata": {},
   "outputs": [
    {
     "data": {
      "text/plain": [
       "2"
      ]
     },
     "execution_count": 395,
     "metadata": {},
     "output_type": "execute_result"
    }
   ],
   "source": [
    "checkBackslashConflict(pop[1])"
   ]
  },
  {
   "cell_type": "markdown",
   "metadata": {
    "colab_type": "text",
    "id": "tikbcB_kVOT-"
   },
   "source": [
    "### 5 pts:  Writer your code in the cell below to register \"evaluate\" function to toolbox"
   ]
  },
  {
   "cell_type": "code",
   "execution_count": 396,
   "metadata": {
    "colab": {},
    "colab_type": "code",
    "id": "_eDjyzBlVOUB"
   },
   "outputs": [],
   "source": [
    "toolbox.register(\"evaluate\", evaFitness)\n",
    "toolbox.register(\"mate\", tools.cxTwoPoint)\n",
    "toolbox.register(\"mutate\", tools.mutUniformInt, low = 0, up = 63, indpb=0.125)\n",
    "toolbox.register(\"select\", tools.selTournament, tournsize=3)"
   ]
  },
  {
   "cell_type": "code",
   "execution_count": 397,
   "metadata": {},
   "outputs": [
    {
     "name": "stdout",
     "output_type": "stream",
     "text": [
      "[52, 47, 38, 55, 31, 13, 0, 10]\n",
      "[52, 47, 38, 55, 31, 13, 0, 10]\n"
     ]
    }
   ],
   "source": [
    "ind = toolbox.individual()\n",
    "print(ind)\n",
    "\n",
    "toolbox.mutate(ind)\n",
    "print(ind)"
   ]
  },
  {
   "cell_type": "code",
   "execution_count": 398,
   "metadata": {
    "scrolled": true
   },
   "outputs": [
    {
     "name": "stdout",
     "output_type": "stream",
     "text": [
      "(<class 'list'>, [[47, 18, 40, 39, 23, 49, 14, 1], [27, 61, 30, 20, 17, 4, 8, 45], [29, 12, 47, 55, 63, 32, 28, 21], [16, 2, 36, 30, 55, 31, 24, 32], [30, 29, 19, 28, 5, 34, 2, 43], [35, 52, 1, 29, 30, 3, 27, 43], [36, 6, 52, 23, 29, 47, 39, 40], [63, 61, 34, 62, 45, 37, 32, 54], [38, 18, 21, 16, 48, 4, 57, 63], [41, 8, 59, 61, 10, 37, 62, 18], [19, 62, 12, 54, 6, 2, 15, 37], [7, 41, 32, 40, 57, 9, 28, 52], [53, 6, 26, 38, 59, 24, 25, 4], [2, 21, 10, 58, 42, 23, 27, 29], [16, 54, 3, 20, 39, 7, 12, 52], [52, 1, 46, 58, 51, 63, 26, 8], [17, 22, 46, 28, 15, 37, 42, 0], [16, 14, 18, 45, 38, 4, 49, 20], [19, 46, 8, 6, 14, 29, 12, 5], [41, 48, 7, 27, 25, 59, 22, 55], [58, 37, 18, 33, 22, 9, 1, 38], [60, 13, 21, 0, 33, 58, 2, 47], [4, 13, 17, 2, 60, 40, 61, 10], [41, 63, 35, 48, 30, 11, 26, 60], [30, 12, 50, 34, 46, 16, 57, 43], [38, 8, 25, 29, 1, 19, 3, 40], [28, 52, 35, 18, 19, 22, 26, 58], [53, 44, 59, 1, 39, 0, 20, 22], [21, 37, 36, 27, 32, 45, 57, 13], [13, 10, 25, 40, 27, 24, 4, 32], [26, 54, 62, 33, 23, 34, 25, 48], [18, 31, 33, 56, 34, 42, 39, 44], [26, 44, 5, 53, 24, 15, 40, 25], [59, 6, 38, 61, 63, 18, 49, 31], [50, 26, 9, 15, 53, 29, 41, 6], [48, 9, 34, 59, 11, 2, 38, 33], [3, 1, 13, 55, 18, 27, 37, 61], [51, 13, 4, 40, 60, 50, 9, 16], [48, 11, 10, 38, 14, 43, 18, 27], [31, 42, 63, 25, 3, 13, 12, 44], [8, 20, 21, 31, 12, 4, 14, 0], [28, 1, 53, 49, 20, 31, 10, 19], [36, 48, 22, 59, 37, 46, 34, 47], [2, 49, 4, 48, 8, 39, 15, 62], [8, 45, 51, 17, 57, 19, 31, 58], [51, 7, 26, 8, 49, 53, 56, 61], [1, 40, 34, 42, 36, 7, 61, 38], [50, 46, 4, 3, 36, 41, 27, 32], [21, 19, 30, 37, 35, 23, 53, 33], [1, 34, 2, 9, 4, 6, 53, 32]])\n"
     ]
    }
   ],
   "source": [
    "print((type(pop), pop))"
   ]
  },
  {
   "cell_type": "code",
   "execution_count": 399,
   "metadata": {
    "colab": {},
    "colab_type": "code",
    "id": "6uej76HoVOUD"
   },
   "outputs": [],
   "source": [
    "stats = tools.Statistics(key=lambda ind: ind.fitness.values)"
   ]
  },
  {
   "cell_type": "code",
   "execution_count": 400,
   "metadata": {
    "colab": {},
    "colab_type": "code",
    "id": "W8cWVXmxVOUH"
   },
   "outputs": [],
   "source": [
    "stats.register(\"avg\", np.mean)\n",
    "stats.register(\"min\", np.min)"
   ]
  },
  {
   "cell_type": "markdown",
   "metadata": {
    "colab_type": "text",
    "id": "OmnhqV_MVOUJ"
   },
   "source": [
    "### 10 pts:  Writer your code in the cell below to create the first generation, the hall of fame, and launch the genetic algorithm: eaSimple().   Run the algorithm for 100 generations. "
   ]
  },
  {
   "cell_type": "code",
   "execution_count": 401,
   "metadata": {
    "colab": {},
    "colab_type": "code",
    "id": "SsTaPuPgVOUK"
   },
   "outputs": [
    {
     "name": "stdout",
     "output_type": "stream",
     "text": [
      "gen\tnevals\tavg \tmin\n",
      "0  \t50    \t7.34\t4  \n",
      "1  \t25    \t6.64\t4  \n",
      "2  \t35    \t6.26\t4  \n",
      "3  \t37    \t6.46\t4  \n",
      "4  \t22    \t5.54\t4  \n",
      "5  \t30    \t5.08\t3  \n",
      "6  \t29    \t4.88\t3  \n",
      "7  \t29    \t4.34\t3  \n",
      "8  \t34    \t4.28\t3  \n",
      "9  \t25    \t4.46\t3  \n",
      "10 \t26    \t4.58\t3  \n",
      "11 \t34    \t4.26\t3  \n",
      "12 \t31    \t3.66\t1  \n",
      "13 \t35    \t3.22\t1  \n",
      "14 \t29    \t3   \t1  \n",
      "15 \t40    \t2.08\t1  \n",
      "16 \t30    \t1.78\t1  \n",
      "17 \t26    \t1.1 \t1  \n",
      "18 \t31    \t1.82\t1  \n",
      "19 \t33    \t1.44\t1  \n",
      "20 \t28    \t1.34\t1  \n",
      "21 \t29    \t1.52\t1  \n",
      "22 \t31    \t1.32\t1  \n",
      "23 \t28    \t1.56\t1  \n",
      "24 \t28    \t1.54\t1  \n",
      "25 \t31    \t1.52\t1  \n",
      "26 \t34    \t1.34\t1  \n",
      "27 \t24    \t1.48\t1  \n",
      "28 \t27    \t1.42\t1  \n",
      "29 \t30    \t1.16\t1  \n",
      "30 \t31    \t1.62\t1  \n",
      "31 \t34    \t1.44\t1  \n",
      "32 \t30    \t1.44\t1  \n",
      "33 \t32    \t1.44\t1  \n",
      "34 \t27    \t1.12\t1  \n",
      "35 \t25    \t1.3 \t1  \n",
      "36 \t30    \t1.42\t1  \n",
      "37 \t31    \t1.76\t1  \n",
      "38 \t30    \t1.32\t1  \n",
      "39 \t31    \t1.4 \t1  \n",
      "40 \t37    \t1.54\t1  \n",
      "41 \t24    \t1.38\t1  \n",
      "42 \t34    \t1.34\t1  \n",
      "43 \t17    \t1.26\t1  \n",
      "44 \t27    \t1.22\t1  \n",
      "45 \t30    \t1.46\t1  \n",
      "46 \t22    \t1.32\t1  \n",
      "47 \t26    \t1.36\t1  \n",
      "48 \t31    \t1.48\t1  \n",
      "49 \t38    \t1.52\t1  \n",
      "50 \t33    \t1.62\t1  \n",
      "51 \t26    \t1.26\t1  \n",
      "52 \t31    \t1.18\t1  \n",
      "53 \t30    \t1.18\t1  \n",
      "54 \t26    \t1.76\t1  \n",
      "55 \t32    \t1.56\t1  \n",
      "56 \t35    \t1.32\t1  \n",
      "57 \t38    \t1.48\t1  \n",
      "58 \t35    \t1.64\t1  \n",
      "59 \t27    \t1.42\t1  \n",
      "60 \t39    \t1.3 \t1  \n",
      "61 \t24    \t1.38\t1  \n",
      "62 \t22    \t1.32\t1  \n",
      "63 \t30    \t1.58\t1  \n",
      "64 \t32    \t2.02\t1  \n",
      "65 \t32    \t1.5 \t1  \n",
      "66 \t32    \t1.36\t1  \n",
      "67 \t27    \t1.26\t1  \n",
      "68 \t23    \t1.6 \t1  \n",
      "69 \t36    \t1.66\t1  \n",
      "70 \t22    \t1.3 \t1  \n",
      "71 \t31    \t1.12\t1  \n",
      "72 \t27    \t1.46\t1  \n",
      "73 \t30    \t1.32\t1  \n",
      "74 \t32    \t1.52\t1  \n",
      "75 \t29    \t1.14\t1  \n",
      "76 \t31    \t1.24\t1  \n",
      "77 \t29    \t1.4 \t1  \n",
      "78 \t27    \t1.4 \t1  \n",
      "79 \t29    \t1.26\t1  \n",
      "80 \t26    \t1.36\t1  \n",
      "81 \t36    \t1.6 \t1  \n",
      "82 \t34    \t1.36\t1  \n",
      "83 \t28    \t1.3 \t1  \n",
      "84 \t28    \t1.38\t1  \n",
      "85 \t20    \t1.36\t1  \n",
      "86 \t33    \t1.6 \t1  \n",
      "87 \t29    \t1.24\t1  \n",
      "88 \t32    \t1.4 \t1  \n",
      "89 \t26    \t1.6 \t1  \n",
      "90 \t31    \t1.3 \t1  \n",
      "91 \t31    \t1.3 \t1  \n",
      "92 \t28    \t1.12\t1  \n",
      "93 \t26    \t1.56\t1  \n",
      "94 \t24    \t1.26\t1  \n",
      "95 \t25    \t1.34\t1  \n",
      "96 \t26    \t1.52\t1  \n",
      "97 \t33    \t1.36\t1  \n",
      "98 \t37    \t1.42\t1  \n",
      "99 \t35    \t1.62\t1  \n",
      "100\t28    \t1.18\t1  \n"
     ]
    }
   ],
   "source": [
    "import matplotlib.pyplot as plt\n",
    "%matplotlib inline  \n",
    "\n",
    "hof = tools.HallOfFame(maxsize=1)\n",
    "\n",
    "pop, log= algorithms.eaSimple(pop, toolbox, cxpb=0.5, mutpb=0.2, ngen=100, stats=stats, halloffame=hof, verbose=True)\n",
    "\n"
   ]
  },
  {
   "cell_type": "markdown",
   "metadata": {
    "colab_type": "text",
    "id": "OkApdsjQVOUL"
   },
   "source": [
    "### 5 pts:  Plot the \"avg\" and \"min\" for each generation"
   ]
  },
  {
   "cell_type": "code",
   "execution_count": 402,
   "metadata": {
    "colab": {},
    "colab_type": "code",
    "id": "gcFc3eOyVOUM",
    "scrolled": true
   },
   "outputs": [
    {
     "data": {
      "image/png": "[encoded data removed]",
      "text/plain": [
       "<Figure size 432x288 with 1 Axes>"
      ]
     },
     "metadata": {
      "needs_background": "light"
     },
     "output_type": "display_data"
    }
   ],
   "source": [
    "gen, avg, min_, max_ = log.select(\"gen\", \"avg\", \"min\", \"max\")\n",
    "\n",
    "plt.plot(gen, avg, label=\"average\")\n",
    "plt.plot(gen, min_, label=\"minimum\")\n",
    "plt.plot(gen, max_, label=\"maximum\")\n",
    "plt.xlabel(\"Generation\")\n",
    "plt.ylabel(\"Fitness\")\n",
    "plt.legend(loc=\"lower right\")\n",
    "plt.show()"
   ]
  },
  {
   "cell_type": "markdown",
   "metadata": {
    "colab_type": "text",
    "id": "t6PFTvUZVOUN"
   },
   "source": [
    "### 5 pts:  Print out the best individual found and its fitness value.  Show the best individual as chessboard"
   ]
  },
  {
   "cell_type": "code",
   "execution_count": 403,
   "metadata": {
    "colab": {},
    "colab_type": "code",
    "id": "-MeBQ0BZVOUO"
   },
   "outputs": [
    {
     "name": "stdout",
     "output_type": "stream",
     "text": [
      "Best individual is: [3, 44, 13, 55, 24, 18, 57, 38]\n",
      "With fitness:  (1,)\n",
      "-|-|-|X|-|-|-|-|\n",
      "----------------\n",
      "-|-|-|-|-|X|-|-|\n",
      "----------------\n",
      "-|-|X|-|-|-|-|-|\n",
      "----------------\n",
      "X|-|-|-|-|-|-|-|\n",
      "----------------\n",
      "-|-|-|-|-|-|X|-|\n",
      "----------------\n",
      "-|-|-|-|X|-|-|-|\n",
      "----------------\n",
      "-|-|-|-|-|-|-|X|\n",
      "----------------\n",
      "-|X|-|-|-|-|-|-|\n",
      "----------------\n"
     ]
    }
   ],
   "source": [
    "best_ind = tools.selBest(pop, k=1)[0]\n",
    "\n",
    "print('Best individual is:', best_ind)\n",
    "\n",
    "print('With fitness: ', toolbox.evaluate(best_ind))\n",
    "\n",
    "show_grid(best_ind)"
   ]
  },
  {
   "cell_type": "markdown",
   "metadata": {
    "colab_type": "text",
    "id": "_PCJJdWAVOUP"
   },
   "source": [
    "## Part II: Row-index-based board representation"
   ]
  },
  {
   "cell_type": "code",
   "execution_count": null,
   "metadata": {
    "colab": {},
    "colab_type": "code",
    "id": "BF0R7swEVOUQ"
   },
   "outputs": [],
   "source": [
    "import random\n",
    "import numpy as np\n",
    "from deap import algorithms, base, creator, tools\n",
    "\n",
    "creator.create(\"FitnessMin\", base.Fitness, weights=(-1.0,))\n",
    "creator.create(\"Individual\", list, fitness=creator.FitnessMin)\n"
   ]
  },
  {
   "cell_type": "markdown",
   "metadata": {
    "colab_type": "text",
    "id": "YCwVbnHrVOUS"
   },
   "source": [
    "Each row of the chess row is indexed from 0->7 . we place different queens on different rows initially.  The sequence [ a b c d .... ] means that in $0^{th}$ row, $a^{th}$ column, the queen is present and so on"
   ]
  },
  {
   "cell_type": "code",
   "execution_count": null,
   "metadata": {
    "colab": {},
    "colab_type": "code",
    "id": "n4II9oePVOUS"
   },
   "outputs": [],
   "source": [
    "toolbox = base.Toolbox()\n",
    "\n",
    "toolbox.register(\"attr_int\", random.randint, 0, 7)\n",
    "toolbox.register(\"individual\", tools.initRepeat, creator.Individual,\n",
    "                 toolbox.attr_int, n=8)"
   ]
  },
  {
   "cell_type": "code",
   "execution_count": null,
   "metadata": {
    "colab": {},
    "colab_type": "code",
    "id": "W-tn8be2VOUU"
   },
   "outputs": [],
   "source": [
    "toolbox.individual()"
   ]
  },
  {
   "cell_type": "code",
   "execution_count": null,
   "metadata": {
    "colab": {},
    "colab_type": "code",
    "id": "97EqErd3VOUX"
   },
   "outputs": [],
   "source": [
    "def show_grid(board):\n",
    "    \n",
    "    n = [0]*64\n",
    "    \n",
    "    for i in range(len(board)):\n",
    "        n[board[i] + i*8] = 1\n",
    "      \n",
    "    \n",
    "    for i in range(8):\n",
    "        for j in range(64):\n",
    "            if j // 8 == i:\n",
    "                if n[j] == 1:\n",
    "                    print('X',end=\"|\")\n",
    "                else:\n",
    "                    print('-',end=\"|\")\n",
    "        print()\n",
    "        print(\"----------------\")\n"
   ]
  },
  {
   "cell_type": "code",
   "execution_count": null,
   "metadata": {
    "colab": {},
    "colab_type": "code",
    "id": "UxkDfoxbVOUb"
   },
   "outputs": [],
   "source": [
    "toolbox.register(\"population\", tools.initRepeat, list, toolbox.individual)"
   ]
  },
  {
   "cell_type": "code",
   "execution_count": null,
   "metadata": {
    "colab": {},
    "colab_type": "code",
    "id": "lcY06x24VOUe"
   },
   "outputs": [],
   "source": [
    "pop = toolbox.population(n=5)\n",
    "\n",
    "print(pop[0])"
   ]
  },
  {
   "cell_type": "code",
   "execution_count": null,
   "metadata": {
    "colab": {},
    "colab_type": "code",
    "id": "KYoqKKm8VOUg"
   },
   "outputs": [],
   "source": [
    "show_grid(pop[0])"
   ]
  },
  {
   "cell_type": "markdown",
   "metadata": {
    "colab_type": "text",
    "id": "6_wZvS3mVOUh"
   },
   "source": [
    "### 10 pts:  Write your code in the cell below to define the \"evaFitness\" function, which return the fitness of any given board\n",
    "\n",
    "- evaFitness() returns the total number of distinct pairs of queens that attack each other.  \n",
    "\n",
    "- The following are some test cases you may use to verify the correctness of the evaFitness() function:\n",
    "\n",
    " * evaFitness([0, 2, 6, 7, 7, 4, 1, 6]) should return (4,)\n",
    "\n",
    " * evaFitness([7, 5, 2, 4, 3, 1, 3, 5]) should return (6,)\n",
    "\n",
    " * evaFitness([3, 1, 6, 0, 5, 7, 2, 1]) should return (5,)\n",
    "\n",
    " * evaFitness([7, 3, 1, 4, 5, 1, 3, 5]) should return (6,)\n",
    "\n"
   ]
  },
  {
   "cell_type": "code",
   "execution_count": null,
   "metadata": {
    "colab": {},
    "colab_type": "code",
    "id": "bk1Rn57oVOUi"
   },
   "outputs": [],
   "source": [
    "#fitness function\n",
    "def evaFitness(individual):\n",
    "    \n",
    "    conflict = 0\n",
    "    \n",
    "\n",
    "    \n",
    "    \n",
    "    \n",
    "    \n",
    "    \n",
    "    \n",
    "    \n",
    "    \n",
    "    return (conflict,)\n",
    "\n",
    "\n",
    "\n",
    "    \n",
    " \n",
    "    "
   ]
  },
  {
   "cell_type": "markdown",
   "metadata": {
    "colab_type": "text",
    "id": "MLkixA1YVOUj"
   },
   "source": [
    "### 5 pts:  Writer your code in the cell below to register \"evaluate\" function to toolbox"
   ]
  },
  {
   "cell_type": "code",
   "execution_count": null,
   "metadata": {
    "colab": {},
    "colab_type": "code",
    "id": "TMwldAeuVOUk"
   },
   "outputs": [],
   "source": [
    "\n",
    "\n",
    "\n",
    "\n",
    "\n",
    "\n",
    "\n",
    "\n"
   ]
  },
  {
   "cell_type": "code",
   "execution_count": null,
   "metadata": {
    "colab": {},
    "colab_type": "code",
    "id": "O-xOKMI4VOUl"
   },
   "outputs": [],
   "source": [
    "\n",
    "toolbox.register(\"mate\", tools.cxTwoPoint)\n",
    "\n",
    "toolbox.register(\"mutate\", tools.mutUniformInt, low = 0, up = 7, indpb=0.1)\n",
    "\n",
    "toolbox.register(\"select\", tools.selTournament, tournsize=3)\n",
    "\n"
   ]
  },
  {
   "cell_type": "code",
   "execution_count": null,
   "metadata": {
    "colab": {},
    "colab_type": "code",
    "id": "R1jlpMTNVOUn"
   },
   "outputs": [],
   "source": [
    "stats = tools.Statistics(key=lambda ind: ind.fitness.values)\n",
    "\n",
    "\n",
    "stats.register(\"avg\", np.mean)\n",
    "stats.register(\"min\", np.min)\n",
    "\n"
   ]
  },
  {
   "cell_type": "markdown",
   "metadata": {
    "colab_type": "text",
    "id": "pyRth-sHVOUq"
   },
   "source": [
    "### 10 pts:  Writer your code in the cell below to create the first generation, the hall of fame, and launch the genetic algorithm: eaSimple().   Run the algorithm for 100 generations. "
   ]
  },
  {
   "cell_type": "code",
   "execution_count": null,
   "metadata": {
    "colab": {},
    "colab_type": "code",
    "id": "3aJJcDUVVOUq"
   },
   "outputs": [],
   "source": [
    "\n",
    "\n",
    "\n",
    "\n",
    "\n",
    "\n",
    "\n",
    "\n",
    "\n",
    "\n",
    "\n",
    "\n",
    "\n"
   ]
  },
  {
   "cell_type": "markdown",
   "metadata": {
    "colab_type": "text",
    "id": "xrJfr0ePVOUs"
   },
   "source": [
    "### 5 pts:  Plot the \"avg\" and \"min\" for each generation"
   ]
  },
  {
   "cell_type": "code",
   "execution_count": null,
   "metadata": {
    "colab": {},
    "colab_type": "code",
    "id": "LJyAUq4WVOUs"
   },
   "outputs": [],
   "source": [
    "# Plot the \"avg\" and \"min\" for each generation\n",
    "\n",
    "import matplotlib.pyplot as plt\n",
    "%matplotlib inline  \n",
    "\n",
    "\n",
    "\n",
    "\n",
    "\n",
    "\n",
    "\n",
    "\n"
   ]
  },
  {
   "cell_type": "markdown",
   "metadata": {
    "colab_type": "text",
    "id": "ry6HXqIMVOUv"
   },
   "source": [
    "### 5 pts:  Print out the best individual found and its fitness value.  Show the best individual as chessboard"
   ]
  },
  {
   "cell_type": "code",
   "execution_count": null,
   "metadata": {
    "colab": {},
    "colab_type": "code",
    "id": "PkC9uOqCVOUv"
   },
   "outputs": [],
   "source": [
    "\n",
    "\n",
    "\n",
    "\n",
    "\n",
    "\n",
    "\n",
    "\n",
    "\n",
    "\n",
    "\n",
    "\n",
    "\n",
    "\n",
    "\n",
    "\n"
   ]
  },
  {
   "cell_type": "markdown",
   "metadata": {
    "colab_type": "text",
    "id": "qhba2jQ1VOUw"
   },
   "source": [
    "### Reflection:  Which board representaion is better?   Try different parameter values for mutation and crossover or vary the number of generations you want to go through, and write your findings in the report.     "
   ]
  },
  {
   "cell_type": "code",
   "execution_count": null,
   "metadata": {},
   "outputs": [],
   "source": []
  }
 ],
 "metadata": {
  "colab": {
   "collapsed_sections": [],
   "name": "DEAP n queens_on-canvas.ipynb",
   "provenance": [],
   "toc_visible": true,
   "version": "0.3.2"
  },
  "kernelspec": {
   "display_name": "Python 3",
   "language": "python",
   "name": "python3"
  },
  "language_info": {
   "codemirror_mode": {
    "name": "ipython",
    "version": 3
   },
   "file_extension": ".py",
   "mimetype": "text/x-python",
   "name": "python",
   "nbconvert_exporter": "python",
   "pygments_lexer": "ipython3",
   "version": "3.7.0"
  }
 },
 "nbformat": 4,
 "nbformat_minor": 2
}
